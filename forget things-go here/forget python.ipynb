{
 "cells": [
  {
   "cell_type": "code",
   "execution_count": 1,
   "metadata": {},
   "outputs": [
    {
     "name": "stdout",
     "output_type": "stream",
     "text": [
      "Hello worlds!\n",
      "\n",
      "\n",
      "0 1 2 3 4 "
     ]
    }
   ],
   "source": [
    "#welcome to python! (again!)\n",
    "#comment in single line using \"#\"\n",
    "# or use \"\"\"  \"\"\" for multiple lines!\n",
    "#note: please run the code blocks form top to bottom!\n",
    "\n",
    "#print is every ez!\n",
    "print(\"Hello worlds!\")\n",
    "\n",
    "#to print down a line, use:\n",
    "print(\"\\n\")\n",
    "\n",
    "#to make it print in single line, use print(\"[content here]\", end=\" \")      note: this \" \" can be replaced by anything as u wish\n",
    "for i in range(5):          #for loop will be covered later      \n",
    "    print(i, end=\" \")"
   ]
  },
  {
   "cell_type": "code",
   "execution_count": 4,
   "metadata": {},
   "outputs": [],
   "source": [
    "#firstly, let do some basic operation around Python\n",
    "\n",
    "#Note: the following must be used in cmd\n",
    "#check version using \"python --version\"\n",
    "#check pip version using \"py -m pip --version\"\n",
    "#to create env.: Open the Command Palette (Ctrl+Shift+P), start typing the Python: Create Environment command to search, and then select the command. Then choose your interpreter\n",
    "#or using: python -m venv [name of folder]\n",
    "#activate env. using \"<DIR>\\Scripts\\activate\"\n",
    "#download package using \"pip install [package]\"\n",
    "\n",
    "#Note: the following can be used directly in file/notebook\n",
    "#import package using \"import [package] (as [name])\"\n",
    "#fast comment using Ctrl+/\n",
    "\n",
    "import math as m    #will be used later in number section!\n"
   ]
  },
  {
   "cell_type": "code",
   "execution_count": 5,
   "metadata": {},
   "outputs": [],
   "source": [
    "#let's start with strings!\n",
    "name = \"bao\"      #singlw line\n",
    "longer_name = \"\"\"Huynh Thien     \n",
    "                Bao\"\"\"      #multiline with triple"
   ]
  },
  {
   "cell_type": "code",
   "execution_count": 6,
   "metadata": {},
   "outputs": [
    {
     "name": "stdout",
     "output_type": "stream",
     "text": [
      "Bao\n",
      "BAO\n",
      "bao\n"
     ]
    }
   ],
   "source": [
    "#its functionality is the same as its name :v\n",
    "print(name.capitalize())\n",
    "print(name.upper())\n",
    "print(name.lower())"
   ]
  },
  {
   "cell_type": "code",
   "execution_count": 7,
   "metadata": {},
   "outputs": [
    {
     "name": "stdout",
     "output_type": "stream",
     "text": [
      "['Hello', 'guys', '!']\n",
      "guys\n"
     ]
    }
   ],
   "source": [
    "greetings = \"Hello guys !\"  #this is a longer string\n",
    "\n",
    "#its functionality is the same as its name :v\n",
    "print(greetings.split())    #as u can se this return a list,\n",
    "\n",
    "#so just use bracket to access data with ease!\n",
    "print(greetings.split()[1])"
   ]
  },
  {
   "cell_type": "code",
   "execution_count": 8,
   "metadata": {},
   "outputs": [
    {
     "name": "stdout",
     "output_type": "stream",
     "text": [
      "My name is bao\n",
      "My name is bao and my full name is Huynh Thien     \n",
      "                Bao\n",
      "My name is bao and my full name is Huynh Thien     \n",
      "                Bao\n",
      "My name is bao and I am 23 years old!\n",
      "My name is bao and I am 23 years old!\n",
      "My name is bao and I am 23 years old!\n",
      "My name is BAO and I am 73 years old!\n"
     ]
    }
   ],
   "source": [
    "#there are 3 ways to format a string:\n",
    "age = 23\n",
    "# using \"%\"\n",
    "print(\"My name is %s\" % name) #unlike c, u dont need \",\" between the string & the value u want to pass in\n",
    "print(\"My name is %s and my full name is %s\" % (name, longer_name)) #u can pass as many as u want, but the order of value got passed is essential!\n",
    "\n",
    "# using .format()\n",
    "print(\"My name is {} and my full name is {}\".format(name, longer_name)) #same as above but u would need {} instead of %s and .format(args)\n",
    "                                                                        #note: no of {} = no of args in .format(), otherwise it would cause error!\n",
    "\n",
    "print(\"My name is {1} and I am {0} years old!\".format(age, name)) #u can change order by using number (pos in the tuple) too!\n",
    "                                                                    #normally, it should be My name is 23 and I am bao years old! - But since we change order, it's correct again!\n",
    "# using f-strings\n",
    "print(f\"My name is {name} and I am {age} years old!\")       #instead passing from the outside, we will pass directly inside the string we want!\n",
    "\n",
    "list = [name, age]\n",
    "print(f\"My name is {list[0]} and I am {list[1]} years old!\") #u can use list too! (also with tuple, dictionary, set)\n",
    "print(f\"My name is {list[0].upper()} and I am {int(list[1])+50} years old!\") #since it's evaluated on runntime, we can pass expression and method/function too!\n",
    "\n"
   ]
  },
  {
   "cell_type": "code",
   "execution_count": 9,
   "metadata": {},
   "outputs": [
    {
     "name": "stdout",
     "output_type": "stream",
     "text": [
      "My name is bao\n",
      "My name is bao\n",
      "M\n",
      "na\n",
      "My\n",
      "name is \n",
      "is \n"
     ]
    }
   ],
   "source": [
    "#finally some concatenation & slicing\n",
    "expression = \"My name is \"\n",
    "\n",
    "#concatenation\n",
    "print(expression + name)    #we can use \"+\"\n",
    "print(''.join([expression,name]))   #or use .join()     note: the ' ' ahead of .join() is the string between each string & inside of join must be itarable data stucture (list,tuple,...)\n",
    "\n",
    "#slicing\n",
    "#they are also a kind of array, so its functionality is the same as array => use [] !\n",
    "print(expression[0])        #first char\n",
    "print(expression[3:5])      #char from pos 3 to 5\n",
    "print(expression[:2])       #first 2 char\n",
    "print(expression[3:])       #chars excluding first 3\n",
    "print(expression[-3:])      #start from last, char = first 3"
   ]
  },
  {
   "cell_type": "code",
   "execution_count": 10,
   "metadata": {},
   "outputs": [
    {
     "name": "stdout",
     "output_type": "stream",
     "text": [
      "<class 'int'>\n",
      "<class 'float'>\n",
      "<class 'complex'>\n",
      "27\n",
      "5\n",
      "(1+2j)\n"
     ]
    }
   ],
   "source": [
    "#now let's go with numerical data structure!\n",
    "a = 5       #int type\n",
    "b = 2.5     #float type\n",
    "c = 1+2j    #complex type   note: the complex part MUST have \"j\"\n",
    "\n",
    "#we can override data stuctures with its type too!\n",
    "d = int(b)      #convert float to int\n",
    "e = float(a)    #convert int to float\n",
    "f = int(float(\"27.55\"))    #CANNOT convert DIRECTLY this string to int, but instead using float first because the string is not in base 10!\n",
    "print(type(a))  #we can check the type using type(args)!\n",
    "print(type(b))\n",
    "print(type(c))\n",
    "print(f)\n",
    "print(a)\n",
    "print(c)\n"
   ]
  },
  {
   "cell_type": "code",
   "execution_count": 11,
   "metadata": {},
   "outputs": [
    {
     "name": "stdout",
     "output_type": "stream",
     "text": [
      "7\n",
      "(-4+2j)\n",
      "(2+4j)\n",
      "2.5\n",
      "2\n",
      "1\n",
      "3125\n",
      "5.0\n"
     ]
    }
   ],
   "source": [
    "#here are some numerical operations!\n",
    "#note: can do to all type of number together\n",
    "#the type of result: just follow math convention :)\n",
    "print(a+d)          #int+int\n",
    "print(c-e)          #complex-float\n",
    "print(d*c)          #int*complex\n",
    "print(a/d)          #division full result\n",
    "print(a//d)         #division but return quotient\n",
    "print(a%d)          #division but return remainder\n",
    "print(pow(a,a))     #int^int\n",
    "print(m.sqrt(pow(a,2)))     #some do not in original lib but in poackage (for this is \"math\" package)\n"
   ]
  },
  {
   "cell_type": "code",
   "execution_count": 12,
   "metadata": {},
   "outputs": [
    {
     "name": "stdout",
     "output_type": "stream",
     "text": [
      "False\n",
      "True\n",
      "True\n",
      "False\n",
      "False\n",
      "True\n",
      "False\n"
     ]
    }
   ],
   "source": [
    "#accordingly, we also have boolean operation, can be used with numerical or string data type\n",
    "#output is either True or False (with head capital)\n",
    "print(len(name) == len(longer_name))    #check equal operation (also be used with number)\n",
    "print(len(name) != len(longer_name))    #check if it's different\n",
    "print(3 > 2)                #the following is just math convention :)\n",
    "print(3 < 2)    \n",
    "print(a <= b)\n",
    "print(a >= b)\n",
    "print((c-e) == (d*c))       #note: with complex data type, >= <= > < are NOT allowed\n",
    "\n",
    "#these also works in python:\n",
    "# += -= =+ =- *= =* "
   ]
  },
  {
   "cell_type": "code",
   "execution_count": 33,
   "metadata": {},
   "outputs": [
    {
     "name": "stdout",
     "output_type": "stream",
     "text": [
      "Ewww u suck!\n"
     ]
    }
   ],
   "source": [
    "#next up is conditional statement, closely related to boolean operation!\n",
    "# if(condition):                  if(condition):\n",
    "#     (do sth)                        (do sth)\n",
    "# else:                           elif(condition):\n",
    "#     (do sth)                        (do sth)      \n",
    "#                                 ...                   can go indefinitely as u wish\n",
    "\n",
    "if(3 == 2):\n",
    "    print(\"Damn u gut\")\n",
    "else:\n",
    "    print(\"Ewww u suck!\")\n",
    "\n",
    "#can be used cooperatively with looping functions!"
   ]
  },
  {
   "cell_type": "code",
   "execution_count": 13,
   "metadata": {},
   "outputs": [
    {
     "name": "stdout",
     "output_type": "stream",
     "text": [
      "[1, 2, 5]\n"
     ]
    }
   ],
   "source": [
    "#we will cover list first, as it is more useful in ds&ai than tuple, dict and set\n",
    "\n",
    "empty_list = []         #empty list with []\n",
    "arr = [1,2,5]           #create and access using direct method \n",
    "arr_duplicate = arr     #using another list\n",
    "#string_list = list(name)      #using list(). somehow in this notebook, it will not work so i commented it\n",
    "\n",
    "#create using \n",
    "print(arr_duplicate)"
   ]
  },
  {
   "cell_type": "code",
   "execution_count": 14,
   "metadata": {},
   "outputs": [
    {
     "name": "stdout",
     "output_type": "stream",
     "text": [
      "[1, 2, 5, 5]\n"
     ]
    }
   ],
   "source": [
    "\"\"\"\n",
    "here are the list method.\n",
    "append()\n",
    "clear()\n",
    "copy()\n",
    "count()\n",
    "extend()\n",
    "index()\n",
    "insert()\n",
    "pop()\n",
    "remove()\n",
    "reverse()   No need to assign value, just write arr.reverse()\n",
    "sort()      => list.sort()      if u try listb = list.sort() then it will return None\n",
    "sorted()    => sorted(list)     then use this instead\n",
    "del()\n",
    "\"\"\"\n",
    "arr_duplicate.append(5)\n",
    "print(arr_duplicate)"
   ]
  },
  {
   "cell_type": "code",
   "execution_count": 30,
   "metadata": {},
   "outputs": [
    {
     "name": "stdout",
     "output_type": "stream",
     "text": [
      "1\n",
      "2\n",
      "5\n",
      "5\n",
      "b\n",
      "a\n",
      "o\n",
      "0 - b\n",
      "1 - a\n",
      "2 - o\n",
      "0 1 2 3 4 5 6 7 8 9 \n",
      "\n",
      "1 3 5 7 9 "
     ]
    }
   ],
   "source": [
    "#let's now talk about loops\n",
    "#there are 2 types: for & while loop\n",
    "\n",
    "# for (condition):                                                \n",
    "#     (do sth)                      \n",
    "# else:\n",
    "#     (do another)\n",
    "\n",
    "#here are some ways to implement it\n",
    "for item in arr:        #'item' will go through every member of the list (condition) \n",
    "    print(item)         #and print (do sth)\n",
    "\n",
    "for character in name:  #usable with strings too! (and dict, tuple)      \n",
    "    print(character) \n",
    "    \n",
    "for pos, char in enumerate(name):           #use with enumerate(): return a tuple in the form (position,item)\n",
    "    print(\"{} - {}\".format(pos,char))       #so in this case we must have 2 iterate variable (pos & char)\n",
    "    \n",
    "for i in range(10):         #use with range(int): return a list from 0->int, so it basically the first one we mention\n",
    "    print(i, end=\" \")\n",
    "\n",
    "print(\"\\n\")\n",
    "\n",
    "for i in range(1,10,2):       #use with range(start, end, step): now it has step, can be either +(increase) or -(decrease)\n",
    "    print(i, end=\" \")\n",
    "    \n",
    "    \n",
    "\n"
   ]
  },
  {
   "cell_type": "code",
   "execution_count": 20,
   "metadata": {},
   "outputs": [
    {
     "name": "stdout",
     "output_type": "stream",
     "text": [
      "Countdown %i 10\n",
      "Countdown %i 9\n",
      "Countdown %i 8\n",
      "Countdown %i 7\n",
      "Countdown %i 6\n",
      "Countdown %i 5\n",
      "Countdown %i 4\n",
      "Countdown %i 3\n",
      "Countdown %i 2\n",
      "Countdown %i 1\n"
     ]
    }
   ],
   "source": [
    "# while(condition):\n",
    "#     (do sth)\n",
    "\n",
    "#here are some ways to implement it\n",
    "\n",
    "i = 10\n",
    "while(i!=0):\n",
    "    print(\"Countdown: \", i)\n",
    "    i-=1"
   ]
  },
  {
   "cell_type": "code",
   "execution_count": 24,
   "metadata": {},
   "outputs": [
    {
     "name": "stdout",
     "output_type": "stream",
     "text": [
      "0\n",
      "1\n",
      "2\n",
      "3\n",
      "count=4\n",
      "210\n",
      "0 1 2 3 4 5 6 7 8 9 1 2 3 4 5 6 7 8 9 10 2 3 4 5 6 7 8 9 10 11 3 4 5 6 7 8 9 10 11 12 4 5 6 7 8 9 10 11 12 13 "
     ]
    }
   ],
   "source": [
    "#break and continue\n",
    "#both can be used in for & while loop\n",
    "\n",
    "#this code try to find 4 in 10 iteration\n",
    "count = 0\n",
    "while count < 10:\n",
    "    if count == 4:          \n",
    "        print(f'{count=}')\n",
    "        break       #if the cond == True then it will come here and meet \"break\", which exit the while loop immediately\n",
    "    print(count)\n",
    "    count += 1\n",
    "\n",
    "#this code try to find the sum of even number in the first 30 int\n",
    "sum = 0\n",
    "for num in range(30):       \n",
    "    if(num%2!=0):\n",
    "        continue    #if the code meets an odd number, then it will skip the line below and continue looping\n",
    "    sum+=num        #else can be used here but not neccessary\n",
    "print(sum)\n",
    "\n",
    "#example for nested loop\n",
    "for i in range(5):\n",
    "    for j in range (10):\n",
    "        print(i+j, end=\" \")\n",
    "        \n"
   ]
  }
 ],
 "metadata": {
  "kernelspec": {
   "display_name": "Python 3",
   "language": "python",
   "name": "python3"
  },
  "language_info": {
   "codemirror_mode": {
    "name": "ipython",
    "version": 3
   },
   "file_extension": ".py",
   "mimetype": "text/x-python",
   "name": "python",
   "nbconvert_exporter": "python",
   "pygments_lexer": "ipython3",
   "version": "3.12.2"
  }
 },
 "nbformat": 4,
 "nbformat_minor": 2
}
