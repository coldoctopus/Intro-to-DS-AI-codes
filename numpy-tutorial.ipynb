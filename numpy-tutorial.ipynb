{
 "cells": [
  {
   "cell_type": "code",
   "execution_count": 2,
   "metadata": {},
   "outputs": [
    {
     "name": "stdout",
     "output_type": "stream",
     "text": [
      "Hello worlds!\n"
     ]
    }
   ],
   "source": [
    "import numpy as np\n",
    "\n",
    "print(\"Hello worlds!\")"
   ]
  },
  {
   "cell_type": "code",
   "execution_count": 63,
   "metadata": {},
   "outputs": [
    {
     "name": "stdout",
     "output_type": "stream",
     "text": [
      "[2 4 6]\n",
      "[[ 0  1  2  3  4]\n",
      " [21 19 17 15 13]]\n"
     ]
    }
   ],
   "source": [
    "#Array initialization (matrix if multidimensional)\n",
    "\"\"\"\n",
    "There are a lot of ways to do this. Here are some examples:\n",
    "*Note: all of this are able to change dtype, using \",dtype=...\" in the ()\n",
    "\"\"\"\n",
    "\n",
    "a = np.array([2,4,6])   #n-d array using .array([\"content of array\"])\n",
    "b = np.array([[x for x in range(5)], [x for x in range(21,11,-2) if x%2!=0]])    #outside [] bracket if more than 1 row\n",
    "print(a)\n",
    "print(b)"
   ]
  },
  {
   "cell_type": "code",
   "execution_count": 96,
   "metadata": {},
   "outputs": [
    {
     "name": "stdout",
     "output_type": "stream",
     "text": [
      "[[0.58 0.88 0.02 0.24]\n",
      " [0.79 0.33 0.34 0.39]\n",
      " [0.54 0.12 0.8  0.43]\n",
      " [0.56 0.16 0.72 0.63]]\n",
      "(4, 4)\n",
      "0.88\n",
      "0.02\n",
      "2\n",
      "16\n",
      "[0.58 0.33 0.8  0.63]\n",
      "float64\n",
      "7.53\n"
     ]
    }
   ],
   "source": [
    "#some ways to extract some properties\n",
    "x = np.random.random((4,4)).round(2)\n",
    "\n",
    "print(x)            #prints out the array\n",
    "print(x.shape)      #return size of array\n",
    "print(x.max())      #return max of array\n",
    "print(x.min())      #return min of array\n",
    "print(x.ndim)       #return dim of array\n",
    "print(x.size)       #return no of elms of array\n",
    "print(x.diagonal()) #return an array of diagonal of x\n",
    "print(x.dtype)      #return dtype of all elements in x  \n",
    "print(np.sum(x))    #return sum of all elements in x   \n",
    "\n"
   ]
  },
  {
   "cell_type": "code",
   "execution_count": 20,
   "metadata": {},
   "outputs": [
    {
     "name": "stdout",
     "output_type": "stream",
     "text": [
      "[0 1 2 3 4 5 6 7 8 9]\n",
      "[0 1 2 3 4 5 6 7 8 9]\n",
      "[0 1 2 3 4 5 6 7 8 9]\n"
     ]
    }
   ],
   "source": [
    "#for 1d array, we also have this\n",
    "x = np.arange(10)       #.arange() functions the same as the normal .range() in normal Python\n",
    "y = np.arange(0,10)\n",
    "z = np.arange(0,10,1)\n",
    "\n",
    "print(x)\n",
    "print(y)\n",
    "print(z)"
   ]
  },
  {
   "cell_type": "code",
   "execution_count": 55,
   "metadata": {},
   "outputs": [
    {
     "name": "stdout",
     "output_type": "stream",
     "text": [
      "[ 3.      4.0625  5.125   6.1875  7.25    8.3125  9.375  10.4375 11.5\n",
      " 12.5625 13.625  14.6875 15.75   16.8125 17.875  18.9375 20.    ]\n"
     ]
    }
   ],
   "source": [
    "#Create a 1-D array of n evenly spaced elements from a to b\n",
    "a = 3.  #would recommend to be float, so it could be spaced easier\n",
    "b = 20\n",
    "n = 17\n",
    "x = np.linspace(a, b, n)\n",
    "print(x)"
   ]
  },
  {
   "cell_type": "code",
   "execution_count": 56,
   "metadata": {},
   "outputs": [
    {
     "name": "stdout",
     "output_type": "stream",
     "text": [
      "[[3 0 0]\n",
      " [0 5 0]\n",
      " [0 0 4]]\n"
     ]
    }
   ],
   "source": [
    "#create a matrix with diagonal = a given array\n",
    "x = np.diag([3, 5, 4])      #len of array = dim of matrix\n",
    "print(x)"
   ]
  },
  {
   "cell_type": "code",
   "execution_count": 85,
   "metadata": {},
   "outputs": [
    {
     "name": "stdout",
     "output_type": "stream",
     "text": [
      "[[1 0 0 0]\n",
      " [0 2 0 0]\n",
      " [0 0 3 0]\n",
      " [0 0 0 4]]\n"
     ]
    }
   ],
   "source": [
    "#if u need diag = array & elsewhere = 0:\n",
    "diagonal = [1, 2, 3, 4]\n",
    "x = np.diagflat(diagonal)\n",
    "#x = np.diagflat(x)         #very intersting :v\n",
    "print(x)"
   ]
  },
  {
   "cell_type": "code",
   "execution_count": 25,
   "metadata": {},
   "outputs": [
    {
     "name": "stdout",
     "output_type": "stream",
     "text": [
      "[[1 0 0]\n",
      " [0 1 0]\n",
      " [0 0 1]]\n",
      "\n",
      "\n",
      "[[1 0 0]\n",
      " [0 1 0]\n",
      " [0 0 1]]\n"
     ]
    }
   ],
   "source": [
    "#create a identity matrix with n-dim \n",
    "n = 3\n",
    "x = np.identity(n, dtype=int)       #default dtype is float, change if needed\n",
    "y = np.eye(n, dtype=int)\n",
    "\n",
    "print(x)\n",
    "print(\"\\n\")\n",
    "print(y)"
   ]
  },
  {
   "cell_type": "code",
   "execution_count": 45,
   "metadata": {},
   "outputs": [
    {
     "name": "stdout",
     "output_type": "stream",
     "text": [
      "For 0's and 1's: \n",
      "[[0. 0. 0.]\n",
      " [0. 0. 0.]]\n",
      "[[1 1 1]\n",
      " [1 1 1]]\n",
      "\n",
      "\n",
      "For the note: \n",
      "[[ 0  1  2  3  4]\n",
      " [21 19 17 15 13]]\n",
      "[[0 0 0 0 0]\n",
      " [0 0 0 0 0]]\n",
      "[[1 1 1 1 1]\n",
      " [1 1 1 1 1]]\n"
     ]
    }
   ],
   "source": [
    "#create an array fulls of 0's or 1's\n",
    "dim = (2,3)                         #more \",\" then more dim   #Note: can change () in dim with []\n",
    "full_0 = np.zeros((2,3))            #param is dim of array (row,col)\n",
    "full_1 = np.ones(dim, dtype=int)    #can also change dtype\n",
    "\n",
    "print(\"For 0's and 1's: \")\n",
    "print(full_0)\n",
    "print(full_1)\n",
    "print(\"\\n\")\n",
    "\n",
    "\n",
    "print(\"For the note: \")\n",
    "#if u alraeady have a matrix, u can fill them with 0's or 1's with this\n",
    "example = np.array([[x for x in range(5)], [x for x in range(21,11,-2) if x%2!=0]])\n",
    "\n",
    "another_0 = np.zeros_like(example)\n",
    "another_1 = np.ones_like(example)\n",
    "\n",
    "print(example)\n",
    "print(another_0)\n",
    "print(another_1)"
   ]
  },
  {
   "cell_type": "code",
   "execution_count": 38,
   "metadata": {},
   "outputs": [
    {
     "name": "stdout",
     "output_type": "stream",
     "text": [
      "[[[10 10]\n",
      "  [10 10]]\n",
      "\n",
      " [[10 10]\n",
      "  [10 10]]\n",
      "\n",
      " [[10 10]\n",
      "  [10 10]]]\n",
      "[[4 4]\n",
      " [4 4]]\n",
      "[[4 4]\n",
      " [4 4]]\n"
     ]
    }
   ],
   "source": [
    "#or instead of 0 or 1, we need a array with n. hence, we'll use .full()\n",
    "dim = (3,2,2)\n",
    "n = 10\n",
    "x = np.full(dim,n, dtype=int)  \n",
    "print(x)\n",
    "\n",
    "y = np.full((2,2),4)\n",
    "print(y)\n",
    "\n",
    "\n",
    "#another very creative way to create like y\n",
    "z = np.ones((2, 2), dtype=int)*4\n",
    "print(z)"
   ]
  },
  {
   "cell_type": "code",
   "execution_count": 61,
   "metadata": {},
   "outputs": [
    {
     "name": "stdout",
     "output_type": "stream",
     "text": [
      "[[0.4505613  0.53954959]\n",
      " [0.15419156 0.43819205]]\n",
      "[[0.45 0.54]\n",
      " [0.15 0.44]]\n"
     ]
    }
   ],
   "source": [
    "#create an array with arbitrary value\n",
    "a = np.random.random((2,2))    #value from [0,1)\n",
    "print(a)\n",
    "\n",
    "a = a.round(2)      #can round like this (a is numpy array), param is no of decimals\n",
    "print(a)\n"
   ]
  },
  {
   "cell_type": "code",
   "execution_count": 81,
   "metadata": {},
   "outputs": [
    {
     "name": "stdout",
     "output_type": "stream",
     "text": [
      "[[0.38 0.86 0.07 0.99]\n",
      " [0.97 0.7  0.43 0.24]\n",
      " [0.88 0.44 0.04 0.71]\n",
      " [0.7  0.33 0.67 0.92]]\n",
      "0.04\n",
      "[[0.38 0.86]\n",
      " [0.97 0.7 ]]\n",
      "[[0.71]\n",
      " [0.92]]\n"
     ]
    }
   ],
   "source": [
    "#accessing numpy array\n",
    "x = np.random.random((4,4)).round(2)\n",
    "\n",
    "a = x[2,2]      #access value in (2,2) of x\n",
    "b = x[:2,:2]    #make new array from row 2 and col 2 onwards\n",
    "c = x[2:,3:]    #make new array from row 2 and col 3 backwards\n",
    "\n",
    "print(x)\n",
    "print(a)\n",
    "print(b)\n",
    "print(c)"
   ]
  },
  {
   "cell_type": "code",
   "execution_count": 92,
   "metadata": {},
   "outputs": [
    {
     "name": "stdout",
     "output_type": "stream",
     "text": [
      "x =  [[0.15 0.68 0.69]\n",
      " [0.45 0.58 0.7 ]\n",
      " [0.59 0.13 0.41]]\n",
      "y =  [[0.63 0.35 0.72]\n",
      " [0.17 0.37 0.5 ]\n",
      " [0.33 0.49 0.42]]\n",
      "\n",
      "\n",
      "[[0.0945 0.238  0.4968]\n",
      " [0.0765 0.2146 0.35  ]\n",
      " [0.1947 0.0637 0.1722]]\n",
      "[[0.4378 0.6422 0.7378]\n",
      " [0.6131 0.7151 0.908 ]\n",
      " [0.5291 0.4555 0.662 ]]\n",
      "[[-1.89711998 -0.38566248 -0.37106368]\n",
      " [-0.7985077  -0.54472718 -0.35667494]\n",
      " [-0.52763274 -2.04022083 -0.89159812]]\n",
      "[[0.15 0.68 0.69]\n",
      " [0.45 0.58 0.7 ]\n",
      " [0.59 0.13 0.41]]\n",
      "[[ -7.99869231  10.30349262  -4.13011497]\n",
      " [-12.45028061  18.83070888 -11.1970795 ]\n",
      " [ 15.45796328 -20.79768975  11.93265406]]\n",
      "[[0.63 0.17 0.33]\n",
      " [0.35 0.37 0.49]\n",
      " [0.72 0.5  0.42]]\n"
     ]
    }
   ],
   "source": [
    "#some mathematical method with numpy array\n",
    "x = np.random.random((3,3)).round(2)\n",
    "y = np.random.random((3,3)).round(2)\n",
    "\n",
    "print(\"x = \", x)\n",
    "print(\"y = \", y)\n",
    "print(\"\\n\")\n",
    "\n",
    "#every basic methods (+ - * / sqrt() , **) works in this way\n",
    "print(x*y)                  #note: this is NOT dot product! it does x[i]*y[i] \n",
    "print(np.dot(x,y))          #the same as x.dot(y)\n",
    "print(np.log(x))            #return loge of every elements\n",
    "print(np.abs(x))            #return absolute value of every elements\n",
    "print(np.linalg.inv(x))     #return the inverse matrix of x\n",
    "print(y.T)                  #return the transpose matrix of y"
   ]
  },
  {
   "cell_type": "code",
   "execution_count": 95,
   "metadata": {},
   "outputs": [
    {
     "name": "stdout",
     "output_type": "stream",
     "text": [
      "[[-1.88409948 -1.11775113 -0.34214511 -1.27457282 -0.93272162  2.36532405\n",
      "  -0.95531535 -1.53423717  1.07490372  0.86315604 -0.00827828 -1.73910618\n",
      "   1.82311462 -0.57925216  0.37939173]\n",
      " [-0.96398874  0.07273422 -2.55682062  1.24956799  0.4686245  -0.97329881\n",
      "  -1.01556471 -0.39115646 -0.14442013 -2.49425781 -1.14601236 -1.29466634\n",
      "   0.85735675 -0.22461404  1.11362299]\n",
      " [-0.09483308  1.25775506 -0.11684153  1.6201849  -0.23443301 -0.34740367\n",
      "  -0.05370451 -0.01641299 -0.24442006 -0.85249535 -0.66348338  0.02649149\n",
      "  -0.76925637  0.76387801  0.93936295]\n",
      " [-0.0389624   0.26179908 -0.0466968   0.81626242  0.32347677 -0.68086876\n",
      "  -0.72817333  0.35491359  1.22472458 -0.47871428 -0.06752208 -0.24952249\n",
      "  -0.00661188 -0.72926581  0.7338651 ]\n",
      " [-1.59966255 -1.57329702 -1.17076778  0.23347549  1.148969   -1.30647571\n",
      "   0.58978788 -1.68190565  0.96210512 -0.78101572  1.30988189 -1.3439469\n",
      "   0.64733484  0.28634654  0.76033041]]\n",
      "[[ 7  9  5]\n",
      " [ 9 13 10]\n",
      " [14  8 12]]\n",
      "[47 43 17 37 36 27 40 34 41 12 39 45 35 29 11 30 31 14 48 28 13 42 44 19\n",
      "  9  4 20 46 32  7 23 26  2 15 10 18  1 25  5  6  0 16 22  8 24 21  3 49\n",
      " 38 33]\n"
     ]
    }
   ],
   "source": [
    "#some other ways to create an array with arbitrary value\n",
    "dim = (3,3)\n",
    "a = 5\n",
    "b = 15\n",
    "n = 50\n",
    "\n",
    "x = np.random.randn(a,b)            #a (a x b) matrix with value from normal distribution \n",
    "y = np.random.randint(a,b,dim)      #a (dim) matrix with value from a to b\n",
    "z = np.random.permutation(n)        #an array, which elements are random permutation of (1,2,...,n)\n",
    "\n",
    "print(x)\n",
    "print(y)\n",
    "print(z)"
   ]
  },
  {
   "cell_type": "code",
   "execution_count": 97,
   "metadata": {},
   "outputs": [
    {
     "name": "stdout",
     "output_type": "stream",
     "text": [
      "[1.71 1.27 1.33]\n",
      "[1.91 0.72 1.68]\n"
     ]
    }
   ],
   "source": [
    "#finding sum by axis\n",
    "x = np.random.random((3,3)).round(2)\n",
    "print(np.sum(x, axis=0))    #=0 means calc by every rows\n",
    "print(np.sum(x, axis=1))    #=1 means calc by every cols"
   ]
  },
  {
   "cell_type": "code",
   "execution_count": 104,
   "metadata": {},
   "outputs": [
    {
     "name": "stdout",
     "output_type": "stream",
     "text": [
      "[[0.55 0.5  0.14]\n",
      " [0.55 0.26 0.21]\n",
      " [0.77 0.93 0.4 ]]\n",
      "[[ True  True False]\n",
      " [ True False False]\n",
      " [ True  True False]]\n",
      "[0.55 0.5  0.55 0.77 0.93]\n",
      "[0.55 0.5  0.55 0.77 0.93]\n"
     ]
    }
   ],
   "source": [
    "#filtering elements by conditions \n",
    "#we can make use of [] from slicing/accessing members\n",
    "\n",
    "x = np.random.random((3,3)).round(2)\n",
    "print(x)\n",
    "\n",
    "condition = ((x-0.5)>=0)         #condition must be bracketed with ()\n",
    "                                #must also include the array we have\n",
    "                                \n",
    "print(condition)                #return bool array  according to the condition\n",
    "print(x[condition])             #return a filtered array which keep the elements that == True\n",
    "print(x[((x-0.5)>=0)])           #or just directly writing the condition"
   ]
  },
  {
   "cell_type": "code",
   "execution_count": 114,
   "metadata": {},
   "outputs": [
    {
     "name": "stdout",
     "output_type": "stream",
     "text": [
      "[[0.01 0.81 0.5  0.51]\n",
      " [0.69 0.05 0.52 0.95]\n",
      " [0.38 0.67 0.31 0.2 ]]\n",
      "[[0.01 0.81 0.5 ]\n",
      " [0.51 0.69 0.05]\n",
      " [0.52 0.95 0.38]\n",
      " [0.67 0.31 0.2 ]]\n"
     ]
    }
   ],
   "source": [
    "#reshaping array/matrix\n",
    "x = np.random.random((3,4)).round(2)\n",
    "print(x)\n",
    "\n",
    "x = x.reshape(4,3)\n",
    "print(x)\n",
    "\n"
   ]
  },
  {
   "cell_type": "code",
   "execution_count": 120,
   "metadata": {},
   "outputs": [
    {
     "name": "stdout",
     "output_type": "stream",
     "text": [
      "[[ 1  2  3]\n",
      " [ 4  5  6]\n",
      " [ 7  8  9]\n",
      " [10 11 12]]\n",
      "[[ 1  2  3  7  8  9]\n",
      " [ 4  5  6 10 11 12]]\n"
     ]
    }
   ],
   "source": [
    "#concatenating arrays\n",
    "x = np.array([[1, 2, 3], [4, 5, 6]])\n",
    "y = np.array([[7, 8, 9], [10, 11, 12]])\n",
    "ans1 = np.concatenate((x, y), axis=0)       #=0 means by rows\n",
    "ans2 = np.concatenate((x, y), axis=1)       #=1 means by cols\n",
    "\n",
    "print(ans1)\n",
    "print(ans2)"
   ]
  }
 ],
 "metadata": {
  "kernelspec": {
   "display_name": ".venv",
   "language": "python",
   "name": "python3"
  },
  "language_info": {
   "codemirror_mode": {
    "name": "ipython",
    "version": 3
   },
   "file_extension": ".py",
   "mimetype": "text/x-python",
   "name": "python",
   "nbconvert_exporter": "python",
   "pygments_lexer": "ipython3",
   "version": "3.12.2"
  }
 },
 "nbformat": 4,
 "nbformat_minor": 2
}
