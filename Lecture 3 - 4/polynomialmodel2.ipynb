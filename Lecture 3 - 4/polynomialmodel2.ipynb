{
  "nbformat": 4,
  "nbformat_minor": 0,
  "metadata": {
    "colab": {
      "provenance": [],
      "gpuType": "T4"
    },
    "kernelspec": {
      "name": "python3",
      "display_name": "Python 3"
    }
  },
  "cells": [
    {
      "cell_type": "code",
      "metadata": {
        "id": "wgWxYoTxxnSp"
      },
      "source": [
        "from keras.layers import Dense, Input\n",
        "from keras.models import Model\n",
        "from keras.optimizers import SGD\n",
        "import numpy as np\n",
        "import os\n",
        "\n",
        "%matplotlib inline\n",
        "\n",
        "def buildPolynomialModel(order=4):\n",
        "    inputs = Input(shape=(order + 1, ))\n",
        "\n",
        "    outputs = Dense(1, use_bias=False)(inputs)\n",
        "\n",
        "    model = Model(inputs, outputs)\n",
        "\n",
        "    model.compile(loss='mse', optimizer=SGD(0.01))\n",
        "\n",
        "    model.summary()\n",
        "\n",
        "    return model\n",
        "\n",
        "def buildDataset(order = 4):\n",
        "    x = np.random.uniform(0, 1, (50,1))\n",
        "    inputs = []\n",
        "    for i in range(0, order + 1):\n",
        "        inputs.append(x ** i)\n",
        "\n",
        "    inputs = np.concatenate(inputs, axis=-1)\n",
        "    targets = np.sin(1 + x ** 2) + np.random.normal(0, 0.03, (50, 1))\n",
        "\n",
        "    print(inputs.shape)\n",
        "    print(targets.shape)\n",
        "    return inputs, targets\n",
        "\n",
        "def getOutput(weights):\n",
        "    x_test = np.linspace(0, 1, 300)\n",
        "    x_test = np.expand_dims(x_test, axis=1)\n",
        "\n",
        "    x_feature = []\n",
        "    for i in range(len(weights)):\n",
        "        x_feature.append(x_test ** i)\n",
        "    x_feature = np.concatenate(x_feature, axis=-1)\n",
        "\n",
        "    y_test = np.sum(x_feature * np.expand_dims(weights, axis=0), axis=1)\n",
        "    return y_test\n",
        "\n",
        "def plotOutput(inputs, targets):\n",
        "    x_test = np.linspace(0, 1, 300)\n",
        "    x_test = np.expand_dims(x_test, axis=1)\n",
        "\n",
        "    y_function = np.sin(1 + x_test ** 2)\n",
        "\n",
        "    import matplotlib.pyplot as plt\n",
        "\n",
        "    plt.ion()\n",
        "\n",
        "    fig = plt.figure()\n",
        "    ax = fig.add_subplot(111)\n",
        "\n",
        "    ax.plot(inputs[:, 1], targets[:, 0], 'o')\n",
        "    line, = ax.plot(x_test, y_function)\n",
        "    line, = ax.plot(x_test, y_function)\n",
        "\n",
        "    ax.set_ylim(0.8, 1.05)\n",
        "\n",
        "    return fig, line\n",
        "\n"
      ],
      "execution_count": null,
      "outputs": []
    },
    {
      "cell_type": "code",
      "source": [
        "order = 4\n",
        "inputs, targets = buildDataset(order)\n"
      ],
      "metadata": {
        "id": "96Y32DIVbv3k",
        "outputId": "4c2bdda1-80be-42f5-ea4b-3803f78fefa8",
        "colab": {
          "base_uri": "https://localhost:8080/"
        }
      },
      "execution_count": null,
      "outputs": [
        {
          "output_type": "stream",
          "name": "stdout",
          "text": [
            "(50, 5)\n",
            "(50, 1)\n"
          ]
        }
      ]
    },
    {
      "cell_type": "markdown",
      "source": [],
      "metadata": {
        "id": "vPXGeulWQGCV"
      }
    },
    {
      "cell_type": "markdown",
      "source": [],
      "metadata": {
        "id": "hGs7rPs5QGI3"
      }
    },
    {
      "cell_type": "markdown",
      "source": [],
      "metadata": {
        "id": "OR2aOT2iQGSu"
      }
    },
    {
      "cell_type": "markdown",
      "source": [],
      "metadata": {
        "id": "WtGnNQDXQGWn"
      }
    },
    {
      "cell_type": "markdown",
      "source": [],
      "metadata": {
        "id": "sOY61k-mQGe5"
      }
    },
    {
      "cell_type": "markdown",
      "source": [],
      "metadata": {
        "id": "OpReVWNhQG44"
      }
    },
    {
      "cell_type": "code",
      "source": [
        "plotOutput(inputs, targets)"
      ],
      "metadata": {
        "id": "g1K_bP9-b7n1",
        "outputId": "273f09e9-3c05-4399-d6b4-afc7c3e9460b",
        "colab": {
          "base_uri": "https://localhost:8080/",
          "height": 470
        }
      },
      "execution_count": null,
      "outputs": [
        {
          "output_type": "execute_result",
          "data": {
            "text/plain": [
              "(<Figure size 640x480 with 1 Axes>,\n",
              " <matplotlib.lines.Line2D at 0x7a49381a1a20>)"
            ]
          },
          "metadata": {},
          "execution_count": 5
        },
        {
          "output_type": "display_data",
          "data": {
            "text/plain": [
              "<Figure size 640x480 with 1 Axes>"
            ],
            "image/png": "[encoded data removed]"
          },
          "metadata": {}
        }
      ]
    },
    {
      "cell_type": "code",
      "source": [
        "def main():\n",
        "    order = 4\n",
        "    inputs, targets = buildDataset(order)\n",
        "    # plotDataset(inputs, targets)\n",
        "\n",
        "    model = buildPolynomialModel(order)\n",
        "\n",
        "    fig, line = plotOutput(inputs, targets)\n",
        "    fig.canvas.flush_events()\n",
        "\n",
        "    num_epochs = 200\n",
        "    # training models\n",
        "    for epoch in range(num_epochs):\n",
        "        model.fit(inputs, targets, batch_size=1, verbose=2)\n",
        "        weights = model.get_layer('dense_1').get_weights()\n",
        "        weights = np.squeeze(weights)\n",
        "        line.set_ydata(getOutput(weights))\n",
        "        fig.canvas.draw()\n",
        "        fig.canvas.flush_events()\n",
        "\n",
        "if __name__ == '__main__':\n",
        "    main()"
      ],
      "metadata": {
        "id": "UMEMR8C-bmP-",
        "colab": {
          "base_uri": "https://localhost:8080/",
          "height": 1000
        },
        "outputId": "37916996-73da-4c96-a948-e78ce0fd645c"
      },
      "execution_count": null,
      "outputs": [
        {
          "output_type": "stream",
          "name": "stdout",
          "text": [
            "(50, 5)\n",
            "(50, 1)\n",
            "Model: \"model_1\"\n",
            "_________________________________________________________________\n",
            " Layer (type)                Output Shape              Param #   \n",
            "=================================================================\n",
            " input_2 (InputLayer)        [(None, 5)]               0         \n",
            "                                                                 \n",
            " dense_1 (Dense)             (None, 1)                 5         \n",
            "                                                                 \n",
            "=================================================================\n",
            "Total params: 5 (20.00 Byte)\n",
            "Trainable params: 5 (20.00 Byte)\n",
            "Non-trainable params: 0 (0.00 Byte)\n",
            "_________________________________________________________________\n",
            "50/50 - 0s - loss: 0.2243 - 353ms/epoch - 7ms/step\n",
            "50/50 - 0s - loss: 0.1056 - 105ms/epoch - 2ms/step\n",
            "50/50 - 0s - loss: 0.0743 - 110ms/epoch - 2ms/step\n",
            "50/50 - 0s - loss: 0.0554 - 107ms/epoch - 2ms/step\n",
            "50/50 - 0s - loss: 0.0426 - 75ms/epoch - 1ms/step\n",
            "50/50 - 0s - loss: 0.0340 - 78ms/epoch - 2ms/step\n",
            "50/50 - 0s - loss: 0.0277 - 71ms/epoch - 1ms/step\n",
            "50/50 - 0s - loss: 0.0236 - 73ms/epoch - 1ms/step\n",
            "50/50 - 0s - loss: 0.0207 - 72ms/epoch - 1ms/step\n",
            "50/50 - 0s - loss: 0.0185 - 71ms/epoch - 1ms/step\n",
            "50/50 - 0s - loss: 0.0166 - 81ms/epoch - 2ms/step\n",
            "50/50 - 0s - loss: 0.0155 - 71ms/epoch - 1ms/step\n",
            "50/50 - 0s - loss: 0.0147 - 73ms/epoch - 1ms/step\n",
            "50/50 - 0s - loss: 0.0139 - 70ms/epoch - 1ms/step\n",
            "50/50 - 0s - loss: 0.0134 - 71ms/epoch - 1ms/step\n",
            "50/50 - 0s - loss: 0.0128 - 77ms/epoch - 2ms/step\n",
            "50/50 - 0s - loss: 0.0126 - 73ms/epoch - 1ms/step\n",
            "50/50 - 0s - loss: 0.0121 - 70ms/epoch - 1ms/step\n",
            "50/50 - 0s - loss: 0.0118 - 76ms/epoch - 2ms/step\n",
            "50/50 - 0s - loss: 0.0114 - 70ms/epoch - 1ms/step\n",
            "50/50 - 0s - loss: 0.0114 - 72ms/epoch - 1ms/step\n",
            "50/50 - 0s - loss: 0.0112 - 72ms/epoch - 1ms/step\n",
            "50/50 - 0s - loss: 0.0108 - 69ms/epoch - 1ms/step\n",
            "50/50 - 0s - loss: 0.0106 - 71ms/epoch - 1ms/step\n",
            "50/50 - 0s - loss: 0.0105 - 73ms/epoch - 1ms/step\n",
            "50/50 - 0s - loss: 0.0102 - 69ms/epoch - 1ms/step\n",
            "50/50 - 0s - loss: 0.0100 - 71ms/epoch - 1ms/step\n",
            "50/50 - 0s - loss: 0.0099 - 76ms/epoch - 2ms/step\n",
            "50/50 - 0s - loss: 0.0097 - 69ms/epoch - 1ms/step\n",
            "50/50 - 0s - loss: 0.0095 - 74ms/epoch - 1ms/step\n",
            "50/50 - 0s - loss: 0.0093 - 74ms/epoch - 1ms/step\n",
            "50/50 - 0s - loss: 0.0090 - 79ms/epoch - 2ms/step\n",
            "50/50 - 0s - loss: 0.0090 - 72ms/epoch - 1ms/step\n",
            "50/50 - 0s - loss: 0.0088 - 74ms/epoch - 1ms/step\n",
            "50/50 - 0s - loss: 0.0087 - 72ms/epoch - 1ms/step\n",
            "50/50 - 0s - loss: 0.0085 - 72ms/epoch - 1ms/step\n",
            "50/50 - 0s - loss: 0.0083 - 81ms/epoch - 2ms/step\n",
            "50/50 - 0s - loss: 0.0081 - 71ms/epoch - 1ms/step\n",
            "50/50 - 0s - loss: 0.0081 - 72ms/epoch - 1ms/step\n",
            "50/50 - 0s - loss: 0.0079 - 72ms/epoch - 1ms/step\n",
            "50/50 - 0s - loss: 0.0077 - 73ms/epoch - 1ms/step\n",
            "50/50 - 0s - loss: 0.0076 - 91ms/epoch - 2ms/step\n",
            "50/50 - 0s - loss: 0.0074 - 72ms/epoch - 1ms/step\n",
            "50/50 - 0s - loss: 0.0074 - 74ms/epoch - 1ms/step\n",
            "50/50 - 0s - loss: 0.0072 - 75ms/epoch - 2ms/step\n",
            "50/50 - 0s - loss: 0.0070 - 73ms/epoch - 1ms/step\n",
            "50/50 - 0s - loss: 0.0070 - 73ms/epoch - 1ms/step\n",
            "50/50 - 0s - loss: 0.0068 - 70ms/epoch - 1ms/step\n",
            "50/50 - 0s - loss: 0.0067 - 70ms/epoch - 1ms/step\n",
            "50/50 - 0s - loss: 0.0066 - 68ms/epoch - 1ms/step\n",
            "50/50 - 0s - loss: 0.0064 - 72ms/epoch - 1ms/step\n",
            "50/50 - 0s - loss: 0.0064 - 71ms/epoch - 1ms/step\n",
            "50/50 - 0s - loss: 0.0062 - 69ms/epoch - 1ms/step\n",
            "50/50 - 0s - loss: 0.0062 - 69ms/epoch - 1ms/step\n",
            "50/50 - 0s - loss: 0.0060 - 71ms/epoch - 1ms/step\n",
            "50/50 - 0s - loss: 0.0059 - 100ms/epoch - 2ms/step\n",
            "50/50 - 0s - loss: 0.0058 - 97ms/epoch - 2ms/step\n",
            "50/50 - 0s - loss: 0.0057 - 116ms/epoch - 2ms/step\n",
            "50/50 - 0s - loss: 0.0056 - 115ms/epoch - 2ms/step\n",
            "50/50 - 0s - loss: 0.0055 - 106ms/epoch - 2ms/step\n",
            "50/50 - 0s - loss: 0.0054 - 118ms/epoch - 2ms/step\n",
            "50/50 - 0s - loss: 0.0054 - 100ms/epoch - 2ms/step\n",
            "50/50 - 0s - loss: 0.0053 - 112ms/epoch - 2ms/step\n",
            "50/50 - 0s - loss: 0.0051 - 106ms/epoch - 2ms/step\n",
            "50/50 - 0s - loss: 0.0050 - 105ms/epoch - 2ms/step\n",
            "50/50 - 0s - loss: 0.0050 - 79ms/epoch - 2ms/step\n",
            "50/50 - 0s - loss: 0.0047 - 83ms/epoch - 2ms/step\n",
            "50/50 - 0s - loss: 0.0049 - 74ms/epoch - 1ms/step\n",
            "50/50 - 0s - loss: 0.0048 - 72ms/epoch - 1ms/step\n",
            "50/50 - 0s - loss: 0.0046 - 69ms/epoch - 1ms/step\n",
            "50/50 - 0s - loss: 0.0046 - 68ms/epoch - 1ms/step\n",
            "50/50 - 0s - loss: 0.0045 - 79ms/epoch - 2ms/step\n",
            "50/50 - 0s - loss: 0.0044 - 70ms/epoch - 1ms/step\n",
            "50/50 - 0s - loss: 0.0043 - 71ms/epoch - 1ms/step\n",
            "50/50 - 0s - loss: 0.0043 - 70ms/epoch - 1ms/step\n",
            "50/50 - 0s - loss: 0.0042 - 69ms/epoch - 1ms/step\n",
            "50/50 - 0s - loss: 0.0041 - 70ms/epoch - 1ms/step\n",
            "50/50 - 0s - loss: 0.0041 - 70ms/epoch - 1ms/step\n",
            "50/50 - 0s - loss: 0.0040 - 72ms/epoch - 1ms/step\n",
            "50/50 - 0s - loss: 0.0039 - 71ms/epoch - 1ms/step\n",
            "50/50 - 0s - loss: 0.0039 - 70ms/epoch - 1ms/step\n",
            "50/50 - 0s - loss: 0.0038 - 71ms/epoch - 1ms/step\n",
            "50/50 - 0s - loss: 0.0038 - 71ms/epoch - 1ms/step\n",
            "50/50 - 0s - loss: 0.0037 - 75ms/epoch - 2ms/step\n",
            "50/50 - 0s - loss: 0.0036 - 72ms/epoch - 1ms/step\n",
            "50/50 - 0s - loss: 0.0036 - 70ms/epoch - 1ms/step\n",
            "50/50 - 0s - loss: 0.0035 - 69ms/epoch - 1ms/step\n",
            "50/50 - 0s - loss: 0.0035 - 70ms/epoch - 1ms/step\n",
            "50/50 - 0s - loss: 0.0034 - 77ms/epoch - 2ms/step\n",
            "50/50 - 0s - loss: 0.0034 - 69ms/epoch - 1ms/step\n",
            "50/50 - 0s - loss: 0.0033 - 70ms/epoch - 1ms/step\n",
            "50/50 - 0s - loss: 0.0033 - 70ms/epoch - 1ms/step\n",
            "50/50 - 0s - loss: 0.0032 - 70ms/epoch - 1ms/step\n",
            "50/50 - 0s - loss: 0.0032 - 74ms/epoch - 1ms/step\n",
            "50/50 - 0s - loss: 0.0031 - 68ms/epoch - 1ms/step\n",
            "50/50 - 0s - loss: 0.0031 - 71ms/epoch - 1ms/step\n",
            "50/50 - 0s - loss: 0.0030 - 71ms/epoch - 1ms/step\n",
            "50/50 - 0s - loss: 0.0030 - 69ms/epoch - 1ms/step\n",
            "50/50 - 0s - loss: 0.0029 - 68ms/epoch - 1ms/step\n",
            "50/50 - 0s - loss: 0.0029 - 69ms/epoch - 1ms/step\n",
            "50/50 - 0s - loss: 0.0029 - 68ms/epoch - 1ms/step\n",
            "50/50 - 0s - loss: 0.0028 - 69ms/epoch - 1ms/step\n",
            "50/50 - 0s - loss: 0.0028 - 70ms/epoch - 1ms/step\n",
            "50/50 - 0s - loss: 0.0027 - 70ms/epoch - 1ms/step\n",
            "50/50 - 0s - loss: 0.0027 - 82ms/epoch - 2ms/step\n",
            "50/50 - 0s - loss: 0.0026 - 69ms/epoch - 1ms/step\n",
            "50/50 - 0s - loss: 0.0026 - 68ms/epoch - 1ms/step\n",
            "50/50 - 0s - loss: 0.0026 - 72ms/epoch - 1ms/step\n",
            "50/50 - 0s - loss: 0.0026 - 70ms/epoch - 1ms/step\n",
            "50/50 - 0s - loss: 0.0025 - 69ms/epoch - 1ms/step\n",
            "50/50 - 0s - loss: 0.0025 - 84ms/epoch - 2ms/step\n",
            "50/50 - 0s - loss: 0.0024 - 69ms/epoch - 1ms/step\n",
            "50/50 - 0s - loss: 0.0024 - 66ms/epoch - 1ms/step\n",
            "50/50 - 0s - loss: 0.0024 - 70ms/epoch - 1ms/step\n",
            "50/50 - 0s - loss: 0.0024 - 72ms/epoch - 1ms/step\n",
            "50/50 - 0s - loss: 0.0022 - 75ms/epoch - 1ms/step\n",
            "50/50 - 0s - loss: 0.0023 - 70ms/epoch - 1ms/step\n",
            "50/50 - 0s - loss: 0.0022 - 67ms/epoch - 1ms/step\n",
            "50/50 - 0s - loss: 0.0022 - 70ms/epoch - 1ms/step\n",
            "50/50 - 0s - loss: 0.0022 - 73ms/epoch - 1ms/step\n",
            "50/50 - 0s - loss: 0.0022 - 104ms/epoch - 2ms/step\n",
            "50/50 - 0s - loss: 0.0022 - 104ms/epoch - 2ms/step\n",
            "50/50 - 0s - loss: 0.0021 - 104ms/epoch - 2ms/step\n",
            "50/50 - 0s - loss: 0.0021 - 198ms/epoch - 4ms/step\n",
            "50/50 - 0s - loss: 0.0021 - 112ms/epoch - 2ms/step\n",
            "50/50 - 0s - loss: 0.0020 - 107ms/epoch - 2ms/step\n",
            "50/50 - 0s - loss: 0.0020 - 107ms/epoch - 2ms/step\n",
            "50/50 - 0s - loss: 0.0020 - 104ms/epoch - 2ms/step\n",
            "50/50 - 0s - loss: 0.0020 - 113ms/epoch - 2ms/step\n",
            "50/50 - 0s - loss: 0.0019 - 105ms/epoch - 2ms/step\n",
            "50/50 - 0s - loss: 0.0019 - 72ms/epoch - 1ms/step\n",
            "50/50 - 0s - loss: 0.0019 - 75ms/epoch - 2ms/step\n",
            "50/50 - 0s - loss: 0.0019 - 69ms/epoch - 1ms/step\n",
            "50/50 - 0s - loss: 0.0018 - 71ms/epoch - 1ms/step\n",
            "50/50 - 0s - loss: 0.0018 - 70ms/epoch - 1ms/step\n",
            "50/50 - 0s - loss: 0.0018 - 66ms/epoch - 1ms/step\n",
            "50/50 - 0s - loss: 0.0018 - 68ms/epoch - 1ms/step\n",
            "50/50 - 0s - loss: 0.0018 - 69ms/epoch - 1ms/step\n",
            "50/50 - 0s - loss: 0.0017 - 73ms/epoch - 1ms/step\n",
            "50/50 - 0s - loss: 0.0017 - 68ms/epoch - 1ms/step\n",
            "50/50 - 0s - loss: 0.0017 - 71ms/epoch - 1ms/step\n",
            "50/50 - 0s - loss: 0.0017 - 68ms/epoch - 1ms/step\n",
            "50/50 - 0s - loss: 0.0017 - 71ms/epoch - 1ms/step\n",
            "50/50 - 0s - loss: 0.0017 - 72ms/epoch - 1ms/step\n",
            "50/50 - 0s - loss: 0.0016 - 71ms/epoch - 1ms/step\n",
            "50/50 - 0s - loss: 0.0016 - 70ms/epoch - 1ms/step\n",
            "50/50 - 0s - loss: 0.0016 - 74ms/epoch - 1ms/step\n",
            "50/50 - 0s - loss: 0.0016 - 90ms/epoch - 2ms/step\n",
            "50/50 - 0s - loss: 0.0016 - 73ms/epoch - 1ms/step\n",
            "50/50 - 0s - loss: 0.0016 - 68ms/epoch - 1ms/step\n",
            "50/50 - 0s - loss: 0.0015 - 70ms/epoch - 1ms/step\n",
            "50/50 - 0s - loss: 0.0015 - 69ms/epoch - 1ms/step\n",
            "50/50 - 0s - loss: 0.0015 - 70ms/epoch - 1ms/step\n",
            "50/50 - 0s - loss: 0.0015 - 71ms/epoch - 1ms/step\n",
            "50/50 - 0s - loss: 0.0015 - 69ms/epoch - 1ms/step\n",
            "50/50 - 0s - loss: 0.0015 - 68ms/epoch - 1ms/step\n",
            "50/50 - 0s - loss: 0.0015 - 76ms/epoch - 2ms/step\n",
            "50/50 - 0s - loss: 0.0014 - 69ms/epoch - 1ms/step\n",
            "50/50 - 0s - loss: 0.0014 - 70ms/epoch - 1ms/step\n",
            "50/50 - 0s - loss: 0.0014 - 73ms/epoch - 1ms/step\n",
            "50/50 - 0s - loss: 0.0014 - 70ms/epoch - 1ms/step\n",
            "50/50 - 0s - loss: 0.0014 - 78ms/epoch - 2ms/step\n",
            "50/50 - 0s - loss: 0.0014 - 69ms/epoch - 1ms/step\n",
            "50/50 - 0s - loss: 0.0014 - 71ms/epoch - 1ms/step\n",
            "50/50 - 0s - loss: 0.0014 - 71ms/epoch - 1ms/step\n",
            "50/50 - 0s - loss: 0.0014 - 74ms/epoch - 1ms/step\n",
            "50/50 - 0s - loss: 0.0013 - 72ms/epoch - 1ms/step\n",
            "50/50 - 0s - loss: 0.0013 - 75ms/epoch - 2ms/step\n",
            "50/50 - 0s - loss: 0.0013 - 71ms/epoch - 1ms/step\n",
            "50/50 - 0s - loss: 0.0013 - 72ms/epoch - 1ms/step\n",
            "50/50 - 0s - loss: 0.0013 - 70ms/epoch - 1ms/step\n",
            "50/50 - 0s - loss: 0.0013 - 72ms/epoch - 1ms/step\n",
            "50/50 - 0s - loss: 0.0013 - 80ms/epoch - 2ms/step\n",
            "50/50 - 0s - loss: 0.0013 - 69ms/epoch - 1ms/step\n",
            "50/50 - 0s - loss: 0.0013 - 73ms/epoch - 1ms/step\n",
            "50/50 - 0s - loss: 0.0012 - 70ms/epoch - 1ms/step\n",
            "50/50 - 0s - loss: 0.0012 - 72ms/epoch - 1ms/step\n",
            "50/50 - 0s - loss: 0.0012 - 73ms/epoch - 1ms/step\n",
            "50/50 - 0s - loss: 0.0012 - 71ms/epoch - 1ms/step\n",
            "50/50 - 0s - loss: 0.0012 - 72ms/epoch - 1ms/step\n",
            "50/50 - 0s - loss: 0.0012 - 69ms/epoch - 1ms/step\n",
            "50/50 - 0s - loss: 0.0012 - 74ms/epoch - 1ms/step\n",
            "50/50 - 0s - loss: 0.0012 - 71ms/epoch - 1ms/step\n",
            "50/50 - 0s - loss: 0.0012 - 103ms/epoch - 2ms/step\n",
            "50/50 - 0s - loss: 0.0012 - 96ms/epoch - 2ms/step\n",
            "50/50 - 0s - loss: 0.0012 - 109ms/epoch - 2ms/step\n",
            "50/50 - 0s - loss: 0.0012 - 102ms/epoch - 2ms/step\n",
            "50/50 - 0s - loss: 0.0012 - 103ms/epoch - 2ms/step\n",
            "50/50 - 0s - loss: 0.0011 - 103ms/epoch - 2ms/step\n",
            "50/50 - 0s - loss: 0.0011 - 110ms/epoch - 2ms/step\n",
            "50/50 - 0s - loss: 0.0011 - 107ms/epoch - 2ms/step\n",
            "50/50 - 0s - loss: 0.0011 - 104ms/epoch - 2ms/step\n",
            "50/50 - 0s - loss: 0.0011 - 98ms/epoch - 2ms/step\n",
            "50/50 - 0s - loss: 0.0011 - 107ms/epoch - 2ms/step\n",
            "50/50 - 0s - loss: 0.0011 - 76ms/epoch - 2ms/step\n",
            "50/50 - 0s - loss: 0.0011 - 75ms/epoch - 1ms/step\n",
            "50/50 - 0s - loss: 0.0011 - 80ms/epoch - 2ms/step\n",
            "50/50 - 0s - loss: 0.0011 - 69ms/epoch - 1ms/step\n",
            "50/50 - 0s - loss: 0.0011 - 74ms/epoch - 1ms/step\n",
            "50/50 - 0s - loss: 0.0011 - 85ms/epoch - 2ms/step\n"
          ]
        },
        {
          "output_type": "display_data",
          "data": {
            "text/plain": [
              "<Figure size 640x480 with 1 Axes>"
            ],
            "image/png": "[encoded data removed]"
          },
          "metadata": {}
        }
      ]
    },
    {
      "cell_type": "code",
      "source": [
        "model = buildPolynomialModel(order)\n"
      ],
      "metadata": {
        "id": "kULt4nQxd6ho",
        "outputId": "9776d1d7-6001-45d5-eb34-9d24e148f0a6",
        "colab": {
          "base_uri": "https://localhost:8080/"
        }
      },
      "execution_count": null,
      "outputs": [
        {
          "output_type": "stream",
          "name": "stdout",
          "text": [
            "Model: \"model_2\"\n",
            "_________________________________________________________________\n",
            " Layer (type)                Output Shape              Param #   \n",
            "=================================================================\n",
            " input_3 (InputLayer)        [(None, 5)]               0         \n",
            "                                                                 \n",
            " dense_2 (Dense)             (None, 1)                 5         \n",
            "                                                                 \n",
            "=================================================================\n",
            "Total params: 5 (20.00 Byte)\n",
            "Trainable params: 5 (20.00 Byte)\n",
            "Non-trainable params: 0 (0.00 Byte)\n",
            "_________________________________________________________________\n"
          ]
        }
      ]
    },
    {
      "cell_type": "code",
      "source": [
        "num_epochs = 100\n",
        "# training models\n",
        "for epoch in range(num_epochs):\n",
        "    model.fit(inputs, targets, batch_size=1, verbose=2)\n"
      ],
      "metadata": {
        "id": "pFU7g5eTeIh4",
        "colab": {
          "base_uri": "https://localhost:8080/"
        },
        "outputId": "f450726d-e1c5-4b40-d43a-8cf8919b5082"
      },
      "execution_count": null,
      "outputs": [
        {
          "output_type": "stream",
          "name": "stdout",
          "text": [
            "50/50 - 0s - loss: 0.4068 - 366ms/epoch - 7ms/step\n",
            "50/50 - 0s - loss: 0.2436 - 100ms/epoch - 2ms/step\n",
            "50/50 - 0s - loss: 0.1640 - 101ms/epoch - 2ms/step\n",
            "50/50 - 0s - loss: 0.1114 - 103ms/epoch - 2ms/step\n",
            "50/50 - 0s - loss: 0.0757 - 109ms/epoch - 2ms/step\n",
            "50/50 - 0s - loss: 0.0517 - 96ms/epoch - 2ms/step\n",
            "50/50 - 0s - loss: 0.0353 - 107ms/epoch - 2ms/step\n",
            "50/50 - 0s - loss: 0.0248 - 111ms/epoch - 2ms/step\n",
            "50/50 - 0s - loss: 0.0173 - 128ms/epoch - 3ms/step\n",
            "50/50 - 0s - loss: 0.0123 - 101ms/epoch - 2ms/step\n",
            "50/50 - 0s - loss: 0.0089 - 69ms/epoch - 1ms/step\n",
            "50/50 - 0s - loss: 0.0067 - 71ms/epoch - 1ms/step\n",
            "50/50 - 0s - loss: 0.0051 - 72ms/epoch - 1ms/step\n",
            "50/50 - 0s - loss: 0.0040 - 69ms/epoch - 1ms/step\n",
            "50/50 - 0s - loss: 0.0033 - 85ms/epoch - 2ms/step\n",
            "50/50 - 0s - loss: 0.0029 - 75ms/epoch - 2ms/step\n",
            "50/50 - 0s - loss: 0.0025 - 69ms/epoch - 1ms/step\n",
            "50/50 - 0s - loss: 0.0023 - 71ms/epoch - 1ms/step\n",
            "50/50 - 0s - loss: 0.0021 - 72ms/epoch - 1ms/step\n",
            "50/50 - 0s - loss: 0.0020 - 72ms/epoch - 1ms/step\n",
            "50/50 - 0s - loss: 0.0019 - 69ms/epoch - 1ms/step\n",
            "50/50 - 0s - loss: 0.0018 - 74ms/epoch - 1ms/step\n",
            "50/50 - 0s - loss: 0.0018 - 70ms/epoch - 1ms/step\n",
            "50/50 - 0s - loss: 0.0018 - 76ms/epoch - 2ms/step\n",
            "50/50 - 0s - loss: 0.0017 - 70ms/epoch - 1ms/step\n",
            "50/50 - 0s - loss: 0.0017 - 75ms/epoch - 1ms/step\n",
            "50/50 - 0s - loss: 0.0017 - 71ms/epoch - 1ms/step\n",
            "50/50 - 0s - loss: 0.0017 - 76ms/epoch - 2ms/step\n",
            "50/50 - 0s - loss: 0.0016 - 77ms/epoch - 2ms/step\n",
            "50/50 - 0s - loss: 0.0016 - 80ms/epoch - 2ms/step\n",
            "50/50 - 0s - loss: 0.0016 - 72ms/epoch - 1ms/step\n",
            "50/50 - 0s - loss: 0.0016 - 72ms/epoch - 1ms/step\n",
            "50/50 - 0s - loss: 0.0016 - 81ms/epoch - 2ms/step\n",
            "50/50 - 0s - loss: 0.0015 - 68ms/epoch - 1ms/step\n",
            "50/50 - 0s - loss: 0.0015 - 69ms/epoch - 1ms/step\n",
            "50/50 - 0s - loss: 0.0015 - 75ms/epoch - 1ms/step\n",
            "50/50 - 0s - loss: 0.0015 - 73ms/epoch - 1ms/step\n",
            "50/50 - 0s - loss: 0.0015 - 71ms/epoch - 1ms/step\n",
            "50/50 - 0s - loss: 0.0015 - 73ms/epoch - 1ms/step\n",
            "50/50 - 0s - loss: 0.0014 - 79ms/epoch - 2ms/step\n",
            "50/50 - 0s - loss: 0.0014 - 74ms/epoch - 1ms/step\n",
            "50/50 - 0s - loss: 0.0014 - 72ms/epoch - 1ms/step\n",
            "50/50 - 0s - loss: 0.0014 - 71ms/epoch - 1ms/step\n",
            "50/50 - 0s - loss: 0.0014 - 71ms/epoch - 1ms/step\n",
            "50/50 - 0s - loss: 0.0014 - 70ms/epoch - 1ms/step\n",
            "50/50 - 0s - loss: 0.0014 - 71ms/epoch - 1ms/step\n",
            "50/50 - 0s - loss: 0.0013 - 74ms/epoch - 1ms/step\n",
            "50/50 - 0s - loss: 0.0013 - 72ms/epoch - 1ms/step\n",
            "50/50 - 0s - loss: 0.0013 - 72ms/epoch - 1ms/step\n",
            "50/50 - 0s - loss: 0.0013 - 70ms/epoch - 1ms/step\n",
            "50/50 - 0s - loss: 0.0013 - 72ms/epoch - 1ms/step\n",
            "50/50 - 0s - loss: 0.0013 - 71ms/epoch - 1ms/step\n",
            "50/50 - 0s - loss: 0.0013 - 70ms/epoch - 1ms/step\n",
            "50/50 - 0s - loss: 0.0013 - 78ms/epoch - 2ms/step\n",
            "50/50 - 0s - loss: 0.0013 - 69ms/epoch - 1ms/step\n",
            "50/50 - 0s - loss: 0.0012 - 72ms/epoch - 1ms/step\n",
            "50/50 - 0s - loss: 0.0012 - 71ms/epoch - 1ms/step\n",
            "50/50 - 0s - loss: 0.0012 - 75ms/epoch - 1ms/step\n",
            "50/50 - 0s - loss: 0.0012 - 77ms/epoch - 2ms/step\n",
            "50/50 - 0s - loss: 0.0012 - 82ms/epoch - 2ms/step\n",
            "50/50 - 0s - loss: 0.0012 - 73ms/epoch - 1ms/step\n",
            "50/50 - 0s - loss: 0.0012 - 74ms/epoch - 1ms/step\n",
            "50/50 - 0s - loss: 0.0012 - 70ms/epoch - 1ms/step\n",
            "50/50 - 0s - loss: 0.0012 - 74ms/epoch - 1ms/step\n",
            "50/50 - 0s - loss: 0.0011 - 76ms/epoch - 2ms/step\n",
            "50/50 - 0s - loss: 0.0011 - 71ms/epoch - 1ms/step\n",
            "50/50 - 0s - loss: 0.0011 - 83ms/epoch - 2ms/step\n",
            "50/50 - 0s - loss: 0.0011 - 70ms/epoch - 1ms/step\n",
            "50/50 - 0s - loss: 0.0011 - 72ms/epoch - 1ms/step\n",
            "50/50 - 0s - loss: 0.0011 - 73ms/epoch - 1ms/step\n",
            "50/50 - 0s - loss: 0.0011 - 71ms/epoch - 1ms/step\n",
            "50/50 - 0s - loss: 0.0011 - 70ms/epoch - 1ms/step\n",
            "50/50 - 0s - loss: 0.0011 - 117ms/epoch - 2ms/step\n",
            "50/50 - 0s - loss: 0.0011 - 107ms/epoch - 2ms/step\n",
            "50/50 - 0s - loss: 0.0011 - 104ms/epoch - 2ms/step\n",
            "50/50 - 0s - loss: 0.0011 - 102ms/epoch - 2ms/step\n",
            "50/50 - 0s - loss: 0.0011 - 100ms/epoch - 2ms/step\n",
            "50/50 - 0s - loss: 0.0010 - 108ms/epoch - 2ms/step\n",
            "50/50 - 0s - loss: 0.0010 - 113ms/epoch - 2ms/step\n",
            "50/50 - 0s - loss: 0.0010 - 112ms/epoch - 2ms/step\n",
            "50/50 - 0s - loss: 0.0010 - 104ms/epoch - 2ms/step\n",
            "50/50 - 0s - loss: 0.0010 - 119ms/epoch - 2ms/step\n",
            "50/50 - 0s - loss: 0.0010 - 83ms/epoch - 2ms/step\n",
            "50/50 - 0s - loss: 9.9717e-04 - 72ms/epoch - 1ms/step\n",
            "50/50 - 0s - loss: 0.0010 - 69ms/epoch - 1ms/step\n",
            "50/50 - 0s - loss: 9.9558e-04 - 70ms/epoch - 1ms/step\n",
            "50/50 - 0s - loss: 9.9212e-04 - 80ms/epoch - 2ms/step\n",
            "50/50 - 0s - loss: 9.8226e-04 - 71ms/epoch - 1ms/step\n",
            "50/50 - 0s - loss: 9.7908e-04 - 71ms/epoch - 1ms/step\n",
            "50/50 - 0s - loss: 9.6568e-04 - 75ms/epoch - 1ms/step\n",
            "50/50 - 0s - loss: 9.6834e-04 - 75ms/epoch - 2ms/step\n",
            "50/50 - 0s - loss: 9.4941e-04 - 77ms/epoch - 2ms/step\n",
            "50/50 - 0s - loss: 9.5472e-04 - 84ms/epoch - 2ms/step\n",
            "50/50 - 0s - loss: 9.4770e-04 - 79ms/epoch - 2ms/step\n",
            "50/50 - 0s - loss: 9.4680e-04 - 77ms/epoch - 2ms/step\n",
            "50/50 - 0s - loss: 9.4217e-04 - 77ms/epoch - 2ms/step\n",
            "50/50 - 0s - loss: 9.3398e-04 - 71ms/epoch - 1ms/step\n",
            "50/50 - 0s - loss: 9.2797e-04 - 90ms/epoch - 2ms/step\n",
            "50/50 - 0s - loss: 9.1994e-04 - 85ms/epoch - 2ms/step\n",
            "50/50 - 0s - loss: 9.0815e-04 - 69ms/epoch - 1ms/step\n"
          ]
        }
      ]
    },
    {
      "cell_type": "code",
      "source": [
        "weights = model.get_layer('dense').get_weights()\n",
        "weights[0].reshape(-1)\n"
      ],
      "metadata": {
        "id": "c423TRHwej00",
        "outputId": "956c4235-c788-4713-9cd9-562d89305d0a",
        "colab": {
          "base_uri": "https://localhost:8080/"
        }
      },
      "execution_count": null,
      "outputs": [
        {
          "output_type": "execute_result",
          "data": {
            "text/plain": [
              "array([ 8.6395395e-01, -5.3802156e-03,  3.5836455e-01,  6.4842083e-04,\n",
              "       -2.4068411e-01], dtype=float32)"
            ]
          },
          "metadata": {},
          "execution_count": 13
        }
      ]
    },
    {
      "cell_type": "code",
      "source": [
        "fig, line = plotOutput(inputs, targets)\n",
        "line.set_ydata(getOutput(weights[0].reshape(-1)))\n"
      ],
      "metadata": {
        "id": "co1qTCbOe4CT",
        "outputId": "1f0f8ef5-403d-49fd-c446-6f9a398a25de",
        "colab": {
          "base_uri": "https://localhost:8080/",
          "height": 435
        }
      },
      "execution_count": null,
      "outputs": [
        {
          "output_type": "display_data",
          "data": {
            "text/plain": [
              "<Figure size 640x480 with 1 Axes>"
            ],
            "image/png": "[encoded data removed]"
          },
          "metadata": {}
        }
      ]
    },
    {
      "cell_type": "code",
      "source": [
        "inputs.shape, targets.shape"
      ],
      "metadata": {
        "id": "z07en-gyh5EP",
        "outputId": "25cd413b-5ed2-4d5d-96cf-5636314248ae",
        "colab": {
          "base_uri": "https://localhost:8080/"
        }
      },
      "execution_count": null,
      "outputs": [
        {
          "output_type": "execute_result",
          "data": {
            "text/plain": [
              "((50, 5), (50, 1))"
            ]
          },
          "metadata": {},
          "execution_count": 15
        }
      ]
    },
    {
      "cell_type": "code",
      "source": [
        "import torch.nn as nn\n",
        "class PolynomialModel(nn.Module):\n",
        "    def __init__(self, input_size):\n",
        "        super().__init__()\n",
        "        self.linear = nn.Linear(input_size, 10)\n",
        "        self.l2 = nn.Linear(10, 7)\n",
        "    def forward(self, x):\n",
        "        x = self.linear(x)\n",
        "        x = self.l2(x)\n",
        "        x = nn.ReLU()(x)\n",
        "        return x\n",
        "\n",
        "model = PolynomialModel(5)\n",
        "\n"
      ],
      "metadata": {
        "id": "yaNsAHRtf5KX"
      },
      "execution_count": null,
      "outputs": []
    },
    {
      "cell_type": "code",
      "source": [
        "class ConvNet(nn.Module)"
      ],
      "metadata": {
        "id": "FpeW_lZ6lP7b"
      },
      "execution_count": null,
      "outputs": []
    },
    {
      "cell_type": "code",
      "source": [
        "import torch\n",
        "input = torch.randn(100, 5)"
      ],
      "metadata": {
        "id": "_XaO5dluiWLt"
      },
      "execution_count": null,
      "outputs": []
    },
    {
      "cell_type": "code",
      "source": [
        "out = model(input) # model.forward(input)"
      ],
      "metadata": {
        "id": "3V7mSNvbi2CU"
      },
      "execution_count": null,
      "outputs": []
    },
    {
      "cell_type": "code",
      "source": [
        "input[1] , out[1]"
      ],
      "metadata": {
        "colab": {
          "base_uri": "https://localhost:8080/"
        },
        "id": "AV5orU-PjEJc",
        "outputId": "f32ef57c-36cf-4a02-e64d-6406474e3686"
      },
      "execution_count": null,
      "outputs": [
        {
          "output_type": "execute_result",
          "data": {
            "text/plain": [
              "(tensor([ 1.6769,  1.0440,  0.0925, -0.5026, -2.1504]),\n",
              " tensor([0.0000, 1.1457, 0.0000, 0.2714, 0.4515, 0.0000, 0.5378],\n",
              "        grad_fn=<SelectBackward0>))"
            ]
          },
          "metadata": {},
          "execution_count": 21
        }
      ]
    },
    {
      "cell_type": "code",
      "source": [
        "(input[0] * model.linear.weight).sum() + model.linear.bias"
      ],
      "metadata": {
        "colab": {
          "base_uri": "https://localhost:8080/"
        },
        "id": "BH-5b9f5jMcf",
        "outputId": "eab17c9f-9556-4014-fcd4-7110ee85479a"
      },
      "execution_count": null,
      "outputs": [
        {
          "output_type": "execute_result",
          "data": {
            "text/plain": [
              "tensor([-0.6876], grad_fn=<AddBackward0>)"
            ]
          },
          "metadata": {},
          "execution_count": 11
        }
      ]
    },
    {
      "cell_type": "code",
      "source": [
        "out.shape"
      ],
      "metadata": {
        "colab": {
          "base_uri": "https://localhost:8080/"
        },
        "id": "dt2eawN8i-2m",
        "outputId": "e6f2e410-d89e-46dc-d9ba-17550659cabd"
      },
      "execution_count": null,
      "outputs": [
        {
          "output_type": "execute_result",
          "data": {
            "text/plain": [
              "torch.Size([100, 7])"
            ]
          },
          "metadata": {},
          "execution_count": 22
        }
      ]
    },
    {
      "cell_type": "code",
      "source": [
        "model.cuda()"
      ],
      "metadata": {
        "colab": {
          "base_uri": "https://localhost:8080/"
        },
        "id": "kGtfVjqdNj8y",
        "outputId": "91aff029-cc49-4574-945c-037b06049610"
      },
      "execution_count": null,
      "outputs": [
        {
          "output_type": "execute_result",
          "data": {
            "text/plain": [
              "PolynomialModel(\n",
              "  (linear): Linear(in_features=5, out_features=1, bias=True)\n",
              ")"
            ]
          },
          "metadata": {},
          "execution_count": 3
        }
      ]
    },
    {
      "cell_type": "code",
      "source": [
        "import torch\n",
        "input = torch.randn(100, 5)\n",
        "out = model(input.cuda())\n",
        "out.cpu()"
      ],
      "metadata": {
        "colab": {
          "base_uri": "https://localhost:8080/"
        },
        "id": "-oOWa_7xNvQ9",
        "outputId": "b97f410d-706d-4e0d-9ed2-c99fc5a094e9"
      },
      "execution_count": null,
      "outputs": [
        {
          "output_type": "execute_result",
          "data": {
            "text/plain": [
              "tensor([[ 0.5074],\n",
              "        [ 0.8709],\n",
              "        [-0.0739],\n",
              "        [ 0.5526],\n",
              "        [-0.3372],\n",
              "        [-0.0881],\n",
              "        [ 0.4385],\n",
              "        [ 0.8747],\n",
              "        [ 0.6586],\n",
              "        [ 0.6034],\n",
              "        [ 0.5641],\n",
              "        [-0.0121],\n",
              "        [ 0.3908],\n",
              "        [-0.0165],\n",
              "        [-0.2905],\n",
              "        [ 0.1529],\n",
              "        [ 1.0241],\n",
              "        [-0.4625],\n",
              "        [ 0.2145],\n",
              "        [ 0.3013],\n",
              "        [ 0.4882],\n",
              "        [ 0.0764],\n",
              "        [-0.0175],\n",
              "        [ 0.0899],\n",
              "        [ 0.5928],\n",
              "        [ 0.6286],\n",
              "        [ 0.2600],\n",
              "        [-0.3800],\n",
              "        [ 0.7361],\n",
              "        [ 0.0116],\n",
              "        [ 0.2054],\n",
              "        [-0.6638],\n",
              "        [ 0.1736],\n",
              "        [ 0.5882],\n",
              "        [ 0.6412],\n",
              "        [ 0.9388],\n",
              "        [ 0.6076],\n",
              "        [-0.5652],\n",
              "        [ 0.8842],\n",
              "        [-0.0269],\n",
              "        [ 0.0427],\n",
              "        [-0.1613],\n",
              "        [ 0.9762],\n",
              "        [ 0.9028],\n",
              "        [ 0.1780],\n",
              "        [ 0.2126],\n",
              "        [-0.0980],\n",
              "        [-0.1338],\n",
              "        [ 0.3849],\n",
              "        [ 0.2813],\n",
              "        [ 0.2840],\n",
              "        [-0.3407],\n",
              "        [ 0.4578],\n",
              "        [ 0.2494],\n",
              "        [-0.2486],\n",
              "        [ 0.0603],\n",
              "        [ 0.3089],\n",
              "        [ 0.5184],\n",
              "        [-0.2868],\n",
              "        [-0.0688],\n",
              "        [ 0.3713],\n",
              "        [-0.1312],\n",
              "        [ 0.2083],\n",
              "        [ 0.3826],\n",
              "        [-0.0327],\n",
              "        [ 0.0395],\n",
              "        [ 0.1489],\n",
              "        [ 0.3998],\n",
              "        [ 0.4617],\n",
              "        [-0.1219],\n",
              "        [-0.0163],\n",
              "        [ 0.0214],\n",
              "        [ 0.4126],\n",
              "        [ 0.6492],\n",
              "        [ 0.5670],\n",
              "        [ 0.2047],\n",
              "        [ 0.1072],\n",
              "        [ 0.2164],\n",
              "        [ 0.1744],\n",
              "        [ 0.1968],\n",
              "        [-0.0939],\n",
              "        [ 0.2526],\n",
              "        [ 0.5418],\n",
              "        [ 0.3285],\n",
              "        [ 0.8805],\n",
              "        [ 0.9280],\n",
              "        [ 0.5654],\n",
              "        [ 0.0526],\n",
              "        [-0.0462],\n",
              "        [ 0.1436],\n",
              "        [ 0.3048],\n",
              "        [ 0.4230],\n",
              "        [ 0.2564],\n",
              "        [ 0.3230],\n",
              "        [ 0.1270],\n",
              "        [-0.0889],\n",
              "        [ 0.2495],\n",
              "        [-0.5431],\n",
              "        [ 0.1182],\n",
              "        [ 1.0304]], grad_fn=<ToCopyBackward0>)"
            ]
          },
          "metadata": {},
          "execution_count": 6
        }
      ]
    },
    {
      "cell_type": "code",
      "source": [
        "import torch\n",
        "import torch.optim as optim\n",
        "\n",
        "input_batch = inputs[:5]\n",
        "target_batch = targets[:5]\n",
        "optimizer = optim.Adam(model.parameters(), lr=0.001)\n",
        "\n",
        "output = model(torch.from_numpy(input_batch).float())\n",
        "loss = nn.MSELoss() (output, torch.from_numpy(target_batch).float())\n",
        "# output, target_batch, loss\n",
        "\n",
        "optimizer.zero_grad()\n",
        "loss.backward()\n"
      ],
      "metadata": {
        "id": "dOmk8Ly3iOuv"
      },
      "execution_count": null,
      "outputs": []
    },
    {
      "cell_type": "code",
      "source": [
        "model.linear.weight, model.linear.weight.grad"
      ],
      "metadata": {
        "id": "_70GBz0tkXfd",
        "outputId": "234b9cd5-93d4-42c3-b6d7-fa818bd10ed2",
        "colab": {
          "base_uri": "https://localhost:8080/"
        }
      },
      "execution_count": null,
      "outputs": [
        {
          "output_type": "execute_result",
          "data": {
            "text/plain": [
              "(Parameter containing:\n",
              " tensor([[-0.4299, -0.4099,  0.3630,  0.2943, -0.2917]], requires_grad=True),\n",
              " tensor([[-2.0798, -1.0340, -0.5662, -0.3257, -0.1924]]))"
            ]
          },
          "metadata": {},
          "execution_count": 32
        }
      ]
    },
    {
      "cell_type": "code",
      "source": [
        "((output-torch.from_numpy(target_batch).float())**2).mean()"
      ],
      "metadata": {
        "id": "UbuysLWgjkU6",
        "outputId": "f86727b5-9f9c-48d5-da72-3e01e85b763c",
        "colab": {
          "base_uri": "https://localhost:8080/"
        }
      },
      "execution_count": null,
      "outputs": [
        {
          "output_type": "execute_result",
          "data": {
            "text/plain": [
              "tensor(1.0875, grad_fn=<MeanBackward0>)"
            ]
          },
          "metadata": {},
          "execution_count": 26
        }
      ]
    }
  ]
}