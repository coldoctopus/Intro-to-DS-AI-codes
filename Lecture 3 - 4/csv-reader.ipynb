{
 "cells": [
  {
   "cell_type": "code",
   "execution_count": 1,
   "id": "2cb5f49f",
   "metadata": {
    "execution": {
     "iopub.execute_input": "2024-05-28T03:40:23.020806Z",
     "iopub.status.busy": "2024-05-28T03:40:23.020369Z",
     "iopub.status.idle": "2024-05-28T03:40:23.033214Z",
     "shell.execute_reply": "2024-05-28T03:40:23.032368Z"
    },
    "papermill": {
     "duration": 0.020691,
     "end_time": "2024-05-28T03:40:23.035591",
     "exception": false,
     "start_time": "2024-05-28T03:40:23.014900",
     "status": "completed"
    },
    "tags": []
   },
   "outputs": [],
   "source": [
    "def csv_reader(file_name):\n",
    "    file = open(file_name)\n",
    "    result = file.read().split(\"\\n\")\n",
    "    return result"
   ]
  },
  {
   "cell_type": "code",
   "execution_count": 2,
   "id": "362a2623",
   "metadata": {
    "execution": {
     "iopub.execute_input": "2024-05-28T03:40:23.043523Z",
     "iopub.status.busy": "2024-05-28T03:40:23.042872Z",
     "iopub.status.idle": "2024-05-28T03:40:23.048533Z",
     "shell.execute_reply": "2024-05-28T03:40:23.047389Z"
    },
    "papermill": {
     "duration": 0.012354,
     "end_time": "2024-05-28T03:40:23.051095",
     "exception": false,
     "start_time": "2024-05-28T03:40:23.038741",
     "status": "completed"
    },
    "tags": []
   },
   "outputs": [],
   "source": [
    "def csv_reader(file_name):\n",
    "    for row in open(file_name, \"r\"):\n",
    "        yield row\n",
    "\n",
    "## return a generator object"
   ]
  },
  {
   "cell_type": "code",
   "execution_count": 3,
   "id": "fd3edeb4",
   "metadata": {
    "execution": {
     "iopub.execute_input": "2024-05-28T03:40:23.058471Z",
     "iopub.status.busy": "2024-05-28T03:40:23.058076Z",
     "iopub.status.idle": "2024-05-28T03:40:23.063814Z",
     "shell.execute_reply": "2024-05-28T03:40:23.062654Z"
    },
    "papermill": {
     "duration": 0.012105,
     "end_time": "2024-05-28T03:40:23.066179",
     "exception": false,
     "start_time": "2024-05-28T03:40:23.054074",
     "status": "completed"
    },
    "tags": []
   },
   "outputs": [],
   "source": [
    "# return ('/kaggle/input/sandp500/all_stocks_5yr.csv', )\n",
    "\n",
    "csv_gen = csv_reader(\"/kaggle/input/sandp500/all_stocks_5yr.csv\")\n",
    "# row_count = 0\n",
    "\n",
    "# for row in csv_gen:\n",
    "#     row_count += 1\n",
    "\n",
    "# print(f\"Row count is {row_count}\")\n"
   ]
  },
  {
   "cell_type": "code",
   "execution_count": 4,
   "id": "ff65c7ba",
   "metadata": {
    "execution": {
     "iopub.execute_input": "2024-05-28T03:40:23.073710Z",
     "iopub.status.busy": "2024-05-28T03:40:23.073265Z",
     "iopub.status.idle": "2024-05-28T03:40:23.091296Z",
     "shell.execute_reply": "2024-05-28T03:40:23.090407Z"
    },
    "papermill": {
     "duration": 0.024615,
     "end_time": "2024-05-28T03:40:23.093735",
     "exception": false,
     "start_time": "2024-05-28T03:40:23.069120",
     "status": "completed"
    },
    "tags": []
   },
   "outputs": [
    {
     "data": {
      "text/plain": [
       "'date,open,high,low,close,volume,Name\\n'"
      ]
     },
     "execution_count": 4,
     "metadata": {},
     "output_type": "execute_result"
    }
   ],
   "source": [
    "# csv_gen.__next__()\n",
    "next(csv_gen)"
   ]
  },
  {
   "cell_type": "code",
   "execution_count": 5,
   "id": "0023465d",
   "metadata": {
    "execution": {
     "iopub.execute_input": "2024-05-28T03:40:23.102272Z",
     "iopub.status.busy": "2024-05-28T03:40:23.101901Z",
     "iopub.status.idle": "2024-05-28T03:40:23.489672Z",
     "shell.execute_reply": "2024-05-28T03:40:23.487987Z"
    },
    "papermill": {
     "duration": 0.394779,
     "end_time": "2024-05-28T03:40:23.491710",
     "exception": true,
     "start_time": "2024-05-28T03:40:23.096931",
     "status": "failed"
    },
    "tags": []
   },
   "outputs": [
    {
     "ename": "TypeError",
     "evalue": "object of type 'generator' has no len()",
     "output_type": "error",
     "traceback": [
      "\u001b[0;31m---------------------------------------------------------------------------\u001b[0m",
      "\u001b[0;31mTypeError\u001b[0m                                 Traceback (most recent call last)",
      "Cell \u001b[0;32mIn[5], line 1\u001b[0m\n\u001b[0;32m----> 1\u001b[0m \u001b[38;5;28;43mlen\u001b[39;49m\u001b[43m(\u001b[49m\u001b[43mcsv_gen\u001b[49m\u001b[43m)\u001b[49m\n",
      "\u001b[0;31mTypeError\u001b[0m: object of type 'generator' has no len()"
     ]
    }
   ],
   "source": [
    "len(csv_gen)"
   ]
  }
 ],
 "metadata": {
  "kaggle": {
   "accelerator": "none",
   "dataSources": [
    {
     "datasetId": 1908,
     "sourceId": 17155,
     "sourceType": "datasetVersion"
    }
   ],
   "dockerImageVersionId": 30698,
   "isGpuEnabled": false,
   "isInternetEnabled": true,
   "language": "python",
   "sourceType": "notebook"
  },
  "kernelspec": {
   "display_name": "Python 3",
   "language": "python",
   "name": "python3"
  },
  "language_info": {
   "codemirror_mode": {
    "name": "ipython",
    "version": 3
   },
   "file_extension": ".py",
   "mimetype": "text/x-python",
   "name": "python",
   "nbconvert_exporter": "python",
   "pygments_lexer": "ipython3",
   "version": "3.10.13"
  },
  "papermill": {
   "default_parameters": {},
   "duration": 4.055711,
   "end_time": "2024-05-28T03:40:23.915923",
   "environment_variables": {},
   "exception": true,
   "input_path": "__notebook__.ipynb",
   "output_path": "__notebook__.ipynb",
   "parameters": {},
   "start_time": "2024-05-28T03:40:19.860212",
   "version": "2.5.0"
  }
 },
 "nbformat": 4,
 "nbformat_minor": 5
}
