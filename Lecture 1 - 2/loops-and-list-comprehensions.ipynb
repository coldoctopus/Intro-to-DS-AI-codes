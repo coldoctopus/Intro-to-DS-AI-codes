{
 "cells": [
  {
   "cell_type": "markdown",
   "id": "c6dc5109",
   "metadata": {
    "papermill": {
     "duration": 0.01091,
     "end_time": "2024-05-07T08:52:31.019461",
     "exception": false,
     "start_time": "2024-05-07T08:52:31.008551",
     "status": "completed"
    },
    "tags": []
   },
   "source": [
    "# Loops\n",
    "\n",
    "Loops are a way to repeatedly execute some code. Here's an example:"
   ]
  },
  {
   "cell_type": "code",
   "execution_count": 1,
   "id": "0bf6ea36",
   "metadata": {
    "execution": {
     "iopub.execute_input": "2024-05-07T08:52:31.042505Z",
     "iopub.status.busy": "2024-05-07T08:52:31.041705Z",
     "iopub.status.idle": "2024-05-07T08:52:31.056213Z",
     "shell.execute_reply": "2024-05-07T08:52:31.055063Z"
    },
    "papermill": {
     "duration": 0.02892,
     "end_time": "2024-05-07T08:52:31.058623",
     "exception": false,
     "start_time": "2024-05-07T08:52:31.029703",
     "status": "completed"
    },
    "tags": []
   },
   "outputs": [
    {
     "name": "stdout",
     "output_type": "stream",
     "text": [
      "Mercury Venus Earth Mars Jupiter Saturn Uranus Neptune "
     ]
    }
   ],
   "source": [
    "planets = ['Mercury', 'Venus', 'Earth', 'Mars', 'Jupiter', 'Saturn', 'Uranus', 'Neptune']\n",
    "for planet in planets:\n",
    "    print(planet, end=' ') # print all on same line"
   ]
  },
  {
   "cell_type": "markdown",
   "id": "3ba2a0b8",
   "metadata": {
    "papermill": {
     "duration": 0.010014,
     "end_time": "2024-05-07T08:52:31.078933",
     "exception": false,
     "start_time": "2024-05-07T08:52:31.068919",
     "status": "completed"
    },
    "tags": []
   },
   "source": [
    "The ``for`` loop specifies \n",
    "- the variable name to use (in this case, `planet`)\n",
    "- the set of values to loop over (in this case, `planets`)\n",
    "\n",
    "You use the word \"``in``\" to link them together.\n",
    "\n",
    "The object to the right of the \"``in``\" can be any object that supports iteration. Basically, if it can be thought of as a group of things, you can probably loop over it. In addition to lists, we can iterate over the elements of a tuple:"
   ]
  },
  {
   "cell_type": "code",
   "execution_count": 2,
   "id": "cb4faea0",
   "metadata": {
    "execution": {
     "iopub.execute_input": "2024-05-07T08:52:31.102262Z",
     "iopub.status.busy": "2024-05-07T08:52:31.101892Z",
     "iopub.status.idle": "2024-05-07T08:52:31.110945Z",
     "shell.execute_reply": "2024-05-07T08:52:31.109735Z"
    },
    "papermill": {
     "duration": 0.023227,
     "end_time": "2024-05-07T08:52:31.113172",
     "exception": false,
     "start_time": "2024-05-07T08:52:31.089945",
     "status": "completed"
    },
    "tags": []
   },
   "outputs": [
    {
     "data": {
      "text/plain": [
       "360"
      ]
     },
     "execution_count": 2,
     "metadata": {},
     "output_type": "execute_result"
    }
   ],
   "source": [
    "multiplicands = (2, 2, 2, 3, 3, 5)\n",
    "product = 1\n",
    "for mult in multiplicands:\n",
    "    product = product * mult\n",
    "product"
   ]
  },
  {
   "cell_type": "markdown",
   "id": "813df855",
   "metadata": {
    "papermill": {
     "duration": 0.010348,
     "end_time": "2024-05-07T08:52:31.134060",
     "exception": false,
     "start_time": "2024-05-07T08:52:31.123712",
     "status": "completed"
    },
    "tags": []
   },
   "source": [
    "You can even loop through each character in a string:"
   ]
  },
  {
   "cell_type": "code",
   "execution_count": 3,
   "id": "af1ae10f",
   "metadata": {
    "execution": {
     "iopub.execute_input": "2024-05-07T08:52:31.156697Z",
     "iopub.status.busy": "2024-05-07T08:52:31.156304Z",
     "iopub.status.idle": "2024-05-07T08:52:31.162776Z",
     "shell.execute_reply": "2024-05-07T08:52:31.161514Z"
    },
    "papermill": {
     "duration": 0.020646,
     "end_time": "2024-05-07T08:52:31.165161",
     "exception": false,
     "start_time": "2024-05-07T08:52:31.144515",
     "status": "completed"
    },
    "tags": []
   },
   "outputs": [
    {
     "name": "stdout",
     "output_type": "stream",
     "text": [
      "HELLO"
     ]
    }
   ],
   "source": [
    "s = 'steganograpHy is the practicE of conceaLing a file, message, image, or video within another fiLe, message, image, Or video.'\n",
    "msg = ''\n",
    "# print all the uppercase letters in s, one at a time\n",
    "for char in s:\n",
    "    if char.isupper():\n",
    "        print(char, end='')        "
   ]
  },
  {
   "cell_type": "markdown",
   "id": "62957f33",
   "metadata": {
    "papermill": {
     "duration": 0.011509,
     "end_time": "2024-05-07T08:52:31.187289",
     "exception": false,
     "start_time": "2024-05-07T08:52:31.175780",
     "status": "completed"
    },
    "tags": []
   },
   "source": [
    "### range()\n",
    "\n",
    "`range()` is a function that returns a sequence of numbers. It turns out to be very useful for writing loops.\n",
    "\n",
    "For example, if we want to repeat some action 5 times:"
   ]
  },
  {
   "cell_type": "code",
   "execution_count": 4,
   "id": "45039882",
   "metadata": {
    "execution": {
     "iopub.execute_input": "2024-05-07T08:52:31.210400Z",
     "iopub.status.busy": "2024-05-07T08:52:31.210025Z",
     "iopub.status.idle": "2024-05-07T08:52:31.215844Z",
     "shell.execute_reply": "2024-05-07T08:52:31.214607Z"
    },
    "papermill": {
     "duration": 0.020459,
     "end_time": "2024-05-07T08:52:31.218422",
     "exception": false,
     "start_time": "2024-05-07T08:52:31.197963",
     "status": "completed"
    },
    "tags": []
   },
   "outputs": [
    {
     "name": "stdout",
     "output_type": "stream",
     "text": [
      "Doing important work. i = 0\n",
      "Doing important work. i = 1\n",
      "Doing important work. i = 2\n",
      "Doing important work. i = 3\n",
      "Doing important work. i = 4\n"
     ]
    }
   ],
   "source": [
    "for i in range(5):\n",
    "    print(\"Doing important work. i =\", i)"
   ]
  },
  {
   "cell_type": "markdown",
   "id": "760ad7d4",
   "metadata": {
    "papermill": {
     "duration": 0.010567,
     "end_time": "2024-05-07T08:52:31.240183",
     "exception": false,
     "start_time": "2024-05-07T08:52:31.229616",
     "status": "completed"
    },
    "tags": []
   },
   "source": [
    "## ``while`` loops\n",
    "The other type of loop in Python is a ``while`` loop, which iterates until some condition is met:"
   ]
  },
  {
   "cell_type": "code",
   "execution_count": 5,
   "id": "539f1b9e",
   "metadata": {
    "execution": {
     "iopub.execute_input": "2024-05-07T08:52:31.263933Z",
     "iopub.status.busy": "2024-05-07T08:52:31.263391Z",
     "iopub.status.idle": "2024-05-07T08:52:31.269040Z",
     "shell.execute_reply": "2024-05-07T08:52:31.268248Z"
    },
    "papermill": {
     "duration": 0.020132,
     "end_time": "2024-05-07T08:52:31.271302",
     "exception": false,
     "start_time": "2024-05-07T08:52:31.251170",
     "status": "completed"
    },
    "tags": []
   },
   "outputs": [
    {
     "name": "stdout",
     "output_type": "stream",
     "text": [
      "0 1 2 3 4 5 6 7 8 9 "
     ]
    }
   ],
   "source": [
    "i = 0\n",
    "while i < 10:\n",
    "    print(i, end=' ')\n",
    "    i += 1 # increase the value of i by 1"
   ]
  },
  {
   "cell_type": "markdown",
   "id": "c48dfd41",
   "metadata": {
    "papermill": {
     "duration": 0.010915,
     "end_time": "2024-05-07T08:52:31.293546",
     "exception": false,
     "start_time": "2024-05-07T08:52:31.282631",
     "status": "completed"
    },
    "tags": []
   },
   "source": [
    "The argument of the ``while`` loop is evaluated as a boolean statement, and the loop is executed until the statement evaluates to False."
   ]
  },
  {
   "cell_type": "markdown",
   "id": "675caacc",
   "metadata": {
    "papermill": {
     "duration": 0.010659,
     "end_time": "2024-05-07T08:52:31.315118",
     "exception": false,
     "start_time": "2024-05-07T08:52:31.304459",
     "status": "completed"
    },
    "tags": []
   },
   "source": [
    "# List comprehensions\n",
    "\n",
    "List comprehensions are one of Python's most beloved and unique features. The easiest way to understand them is probably to just look at a few examples:"
   ]
  },
  {
   "cell_type": "code",
   "execution_count": 6,
   "id": "7bb53343",
   "metadata": {
    "execution": {
     "iopub.execute_input": "2024-05-07T08:52:31.339309Z",
     "iopub.status.busy": "2024-05-07T08:52:31.338945Z",
     "iopub.status.idle": "2024-05-07T08:52:31.346149Z",
     "shell.execute_reply": "2024-05-07T08:52:31.345094Z"
    },
    "papermill": {
     "duration": 0.022014,
     "end_time": "2024-05-07T08:52:31.348462",
     "exception": false,
     "start_time": "2024-05-07T08:52:31.326448",
     "status": "completed"
    },
    "tags": []
   },
   "outputs": [
    {
     "data": {
      "text/plain": [
       "[0, 1, 4, 9, 16, 25, 36, 49, 64, 81]"
      ]
     },
     "execution_count": 6,
     "metadata": {},
     "output_type": "execute_result"
    }
   ],
   "source": [
    "squares = [n**2 for n in range(10)]\n",
    "squares"
   ]
  },
  {
   "cell_type": "markdown",
   "id": "33fd1e1b",
   "metadata": {
    "papermill": {
     "duration": 0.011205,
     "end_time": "2024-05-07T08:52:31.371215",
     "exception": false,
     "start_time": "2024-05-07T08:52:31.360010",
     "status": "completed"
    },
    "tags": []
   },
   "source": [
    "Here's how we would do the same thing without a list comprehension:"
   ]
  },
  {
   "cell_type": "code",
   "execution_count": 7,
   "id": "e7a9969c",
   "metadata": {
    "execution": {
     "iopub.execute_input": "2024-05-07T08:52:31.395507Z",
     "iopub.status.busy": "2024-05-07T08:52:31.395070Z",
     "iopub.status.idle": "2024-05-07T08:52:31.403033Z",
     "shell.execute_reply": "2024-05-07T08:52:31.401962Z"
    },
    "papermill": {
     "duration": 0.02306,
     "end_time": "2024-05-07T08:52:31.405344",
     "exception": false,
     "start_time": "2024-05-07T08:52:31.382284",
     "status": "completed"
    },
    "tags": []
   },
   "outputs": [
    {
     "data": {
      "text/plain": [
       "[0, 1, 4, 9, 16, 25, 36, 49, 64, 81]"
      ]
     },
     "execution_count": 7,
     "metadata": {},
     "output_type": "execute_result"
    }
   ],
   "source": [
    "squares = []\n",
    "for n in range(10):\n",
    "    squares.append(n**2)\n",
    "squares"
   ]
  },
  {
   "cell_type": "markdown",
   "id": "69cc507c",
   "metadata": {
    "papermill": {
     "duration": 0.011028,
     "end_time": "2024-05-07T08:52:31.427796",
     "exception": false,
     "start_time": "2024-05-07T08:52:31.416768",
     "status": "completed"
    },
    "tags": []
   },
   "source": [
    "We can also add an `if` condition:"
   ]
  },
  {
   "cell_type": "code",
   "execution_count": 8,
   "id": "0829fbb8",
   "metadata": {
    "execution": {
     "iopub.execute_input": "2024-05-07T08:52:31.452246Z",
     "iopub.status.busy": "2024-05-07T08:52:31.451825Z",
     "iopub.status.idle": "2024-05-07T08:52:31.458777Z",
     "shell.execute_reply": "2024-05-07T08:52:31.457989Z"
    },
    "papermill": {
     "duration": 0.021846,
     "end_time": "2024-05-07T08:52:31.460943",
     "exception": false,
     "start_time": "2024-05-07T08:52:31.439097",
     "status": "completed"
    },
    "tags": []
   },
   "outputs": [
    {
     "data": {
      "text/plain": [
       "['Venus', 'Earth', 'Mars']"
      ]
     },
     "execution_count": 8,
     "metadata": {},
     "output_type": "execute_result"
    }
   ],
   "source": [
    "short_planets = [planet for planet in planets if len(planet) < 6]\n",
    "short_planets"
   ]
  },
  {
   "cell_type": "markdown",
   "id": "06643c41",
   "metadata": {
    "papermill": {
     "duration": 0.011319,
     "end_time": "2024-05-07T08:52:31.483715",
     "exception": false,
     "start_time": "2024-05-07T08:52:31.472396",
     "status": "completed"
    },
    "tags": []
   },
   "source": [
    "(If you're familiar with SQL, you might think of this as being like a \"WHERE\" clause)\n",
    "\n",
    "Here's an example of filtering with an `if` condition *and* applying some transformation to the loop variable:"
   ]
  },
  {
   "cell_type": "code",
   "execution_count": 9,
   "id": "2f142260",
   "metadata": {
    "execution": {
     "iopub.execute_input": "2024-05-07T08:52:31.508536Z",
     "iopub.status.busy": "2024-05-07T08:52:31.508159Z",
     "iopub.status.idle": "2024-05-07T08:52:31.515283Z",
     "shell.execute_reply": "2024-05-07T08:52:31.514316Z"
    },
    "papermill": {
     "duration": 0.022272,
     "end_time": "2024-05-07T08:52:31.517431",
     "exception": false,
     "start_time": "2024-05-07T08:52:31.495159",
     "status": "completed"
    },
    "tags": []
   },
   "outputs": [
    {
     "data": {
      "text/plain": [
       "['VENUS!', 'EARTH!', 'MARS!']"
      ]
     },
     "execution_count": 9,
     "metadata": {},
     "output_type": "execute_result"
    }
   ],
   "source": [
    "# str.upper() returns an all-caps version of a string\n",
    "loud_short_planets = [planet.upper() + '!' for planet in planets if len(planet) < 6]\n",
    "loud_short_planets"
   ]
  },
  {
   "cell_type": "markdown",
   "id": "996f557b",
   "metadata": {
    "papermill": {
     "duration": 0.012128,
     "end_time": "2024-05-07T08:52:31.541161",
     "exception": false,
     "start_time": "2024-05-07T08:52:31.529033",
     "status": "completed"
    },
    "tags": []
   },
   "source": [
    "People usually write these on a single line, but you might find the structure clearer when it's split up over 3 lines:"
   ]
  },
  {
   "cell_type": "code",
   "execution_count": 10,
   "id": "b5e570b6",
   "metadata": {
    "execution": {
     "iopub.execute_input": "2024-05-07T08:52:31.566200Z",
     "iopub.status.busy": "2024-05-07T08:52:31.565780Z",
     "iopub.status.idle": "2024-05-07T08:52:31.573617Z",
     "shell.execute_reply": "2024-05-07T08:52:31.572559Z"
    },
    "papermill": {
     "duration": 0.023391,
     "end_time": "2024-05-07T08:52:31.576150",
     "exception": false,
     "start_time": "2024-05-07T08:52:31.552759",
     "status": "completed"
    },
    "tags": []
   },
   "outputs": [
    {
     "data": {
      "text/plain": [
       "['VENUS!', 'EARTH!', 'MARS!']"
      ]
     },
     "execution_count": 10,
     "metadata": {},
     "output_type": "execute_result"
    }
   ],
   "source": [
    "[\n",
    "    planet.upper() + '!' \n",
    "    for planet in planets \n",
    "    if len(planet) < 6\n",
    "]"
   ]
  },
  {
   "cell_type": "markdown",
   "id": "0c1c00b2",
   "metadata": {
    "papermill": {
     "duration": 0.011797,
     "end_time": "2024-05-07T08:52:31.600362",
     "exception": false,
     "start_time": "2024-05-07T08:52:31.588565",
     "status": "completed"
    },
    "tags": []
   },
   "source": [
    "(Continuing the SQL analogy, you could think of these three lines as SELECT, FROM, and WHERE)\n",
    "\n",
    "The expression on the left doesn't technically have to involve the loop variable (though it'd be pretty unusual for it not to). What do you think the expression below will evaluate to? Press the 'output' button to check. "
   ]
  },
  {
   "cell_type": "code",
   "execution_count": 11,
   "id": "56e9a748",
   "metadata": {
    "_kg_hide-output": true,
    "execution": {
     "iopub.execute_input": "2024-05-07T08:52:31.627499Z",
     "iopub.status.busy": "2024-05-07T08:52:31.627103Z",
     "iopub.status.idle": "2024-05-07T08:52:31.635191Z",
     "shell.execute_reply": "2024-05-07T08:52:31.633855Z"
    },
    "papermill": {
     "duration": 0.024038,
     "end_time": "2024-05-07T08:52:31.637394",
     "exception": false,
     "start_time": "2024-05-07T08:52:31.613356",
     "status": "completed"
    },
    "tags": []
   },
   "outputs": [
    {
     "data": {
      "text/plain": [
       "[32, 32, 32, 32, 32, 32, 32, 32]"
      ]
     },
     "execution_count": 11,
     "metadata": {},
     "output_type": "execute_result"
    }
   ],
   "source": [
    "[32 for planet in planets]"
   ]
  },
  {
   "cell_type": "markdown",
   "id": "42c9cb07",
   "metadata": {
    "papermill": {
     "duration": 0.011793,
     "end_time": "2024-05-07T08:52:31.661306",
     "exception": false,
     "start_time": "2024-05-07T08:52:31.649513",
     "status": "completed"
    },
    "tags": []
   },
   "source": [
    "List comprehensions combined with functions like `min`, `max`, and `sum` can lead to impressive one-line solutions for problems that would otherwise require several lines of code. \n",
    "\n",
    "For example, compare the following two cells of code that do the same thing.\n"
   ]
  },
  {
   "cell_type": "code",
   "execution_count": 12,
   "id": "b876c7b8",
   "metadata": {
    "execution": {
     "iopub.execute_input": "2024-05-07T08:52:31.687355Z",
     "iopub.status.busy": "2024-05-07T08:52:31.686981Z",
     "iopub.status.idle": "2024-05-07T08:52:31.694100Z",
     "shell.execute_reply": "2024-05-07T08:52:31.693039Z"
    },
    "papermill": {
     "duration": 0.023148,
     "end_time": "2024-05-07T08:52:31.696433",
     "exception": false,
     "start_time": "2024-05-07T08:52:31.673285",
     "status": "completed"
    },
    "tags": []
   },
   "outputs": [
    {
     "data": {
      "text/plain": [
       "2"
      ]
     },
     "execution_count": 12,
     "metadata": {},
     "output_type": "execute_result"
    }
   ],
   "source": [
    "nums = [5, -1, -2, 0, 3]\n",
    "n_negative = len([i for i in nums if i < 0])\n",
    "n_negative"
   ]
  },
  {
   "cell_type": "code",
   "execution_count": 13,
   "id": "5846ac9d",
   "metadata": {
    "collapsed": true,
    "execution": {
     "iopub.execute_input": "2024-05-07T08:52:31.722718Z",
     "iopub.status.busy": "2024-05-07T08:52:31.722310Z",
     "iopub.status.idle": "2024-05-07T08:52:31.729188Z",
     "shell.execute_reply": "2024-05-07T08:52:31.727858Z"
    },
    "jupyter": {
     "outputs_hidden": true
    },
    "papermill": {
     "duration": 0.023505,
     "end_time": "2024-05-07T08:52:31.732103",
     "exception": false,
     "start_time": "2024-05-07T08:52:31.708598",
     "status": "completed"
    },
    "tags": []
   },
   "outputs": [],
   "source": [
    "def count_negatives(nums):\n",
    "    \"\"\"Return the number of negative numbers in the given list.\n",
    "    \n",
    "    >>> count_negatives([5, -1, -2, 0, 3])\n",
    "    2\n",
    "    \"\"\"\n",
    "    n_negative = 0\n",
    "    for num in nums:\n",
    "        if num < 0:\n",
    "            n_negative = n_negative + 1\n",
    "    return n_negative"
   ]
  },
  {
   "cell_type": "markdown",
   "id": "c13fe639",
   "metadata": {
    "papermill": {
     "duration": 0.012622,
     "end_time": "2024-05-07T08:52:31.757316",
     "exception": false,
     "start_time": "2024-05-07T08:52:31.744694",
     "status": "completed"
    },
    "tags": []
   },
   "source": [
    "Here's a solution using a list comprehension:"
   ]
  },
  {
   "cell_type": "code",
   "execution_count": 14,
   "id": "584eb496",
   "metadata": {
    "collapsed": true,
    "execution": {
     "iopub.execute_input": "2024-05-07T08:52:31.784573Z",
     "iopub.status.busy": "2024-05-07T08:52:31.783467Z",
     "iopub.status.idle": "2024-05-07T08:52:31.788509Z",
     "shell.execute_reply": "2024-05-07T08:52:31.787738Z"
    },
    "jupyter": {
     "outputs_hidden": true
    },
    "papermill": {
     "duration": 0.020842,
     "end_time": "2024-05-07T08:52:31.790591",
     "exception": false,
     "start_time": "2024-05-07T08:52:31.769749",
     "status": "completed"
    },
    "tags": []
   },
   "outputs": [],
   "source": [
    "def count_negatives(nums):\n",
    "    return len([num for num in nums if num < 0])"
   ]
  },
  {
   "cell_type": "markdown",
   "id": "d9a5a3c1",
   "metadata": {
    "papermill": {
     "duration": 0.012509,
     "end_time": "2024-05-07T08:52:31.815571",
     "exception": false,
     "start_time": "2024-05-07T08:52:31.803062",
     "status": "completed"
    },
    "tags": []
   },
   "source": [
    "Much better, right?\n",
    "\n",
    "Well if all we care about is minimizing the length of our code, this third solution is better still!"
   ]
  },
  {
   "cell_type": "code",
   "execution_count": 15,
   "id": "6f0e8f5b",
   "metadata": {
    "collapsed": true,
    "execution": {
     "iopub.execute_input": "2024-05-07T08:52:31.841961Z",
     "iopub.status.busy": "2024-05-07T08:52:31.841519Z",
     "iopub.status.idle": "2024-05-07T08:52:31.846712Z",
     "shell.execute_reply": "2024-05-07T08:52:31.845922Z"
    },
    "jupyter": {
     "outputs_hidden": true
    },
    "papermill": {
     "duration": 0.020921,
     "end_time": "2024-05-07T08:52:31.848836",
     "exception": false,
     "start_time": "2024-05-07T08:52:31.827915",
     "status": "completed"
    },
    "tags": []
   },
   "outputs": [],
   "source": [
    "def count_negatives(nums):\n",
    "    # Reminder: in the \"booleans and conditionals\" exercises, we learned about a quirk of \n",
    "    # Python where it calculates something like True + True + False + True to be equal to 3.\n",
    "    return sum([num < 0 for num in nums])"
   ]
  },
  {
   "cell_type": "markdown",
   "id": "406aa52c",
   "metadata": {
    "papermill": {
     "duration": 0.012157,
     "end_time": "2024-05-07T08:52:31.873712",
     "exception": false,
     "start_time": "2024-05-07T08:52:31.861555",
     "status": "completed"
    },
    "tags": []
   },
   "source": [
    "Which of these solutions is the \"best\" is entirely subjective. Solving a problem with less code is always nice, but it's worth keeping in mind the following lines from [The Zen of Python](https://en.wikipedia.org/wiki/Zen_of_Python):\n",
    "\n",
    "> Readability counts.  \n",
    "> Explicit is better than implicit.\n",
    "\n",
    "So, use these tools to make compact readable programs. But when you have to choose, favor code that is easy for others to understand."
   ]
  },
  {
   "cell_type": "code",
   "execution_count": 16,
   "id": "4d98f947",
   "metadata": {
    "execution": {
     "iopub.execute_input": "2024-05-07T08:52:31.900168Z",
     "iopub.status.busy": "2024-05-07T08:52:31.899784Z",
     "iopub.status.idle": "2024-05-07T08:52:31.908145Z",
     "shell.execute_reply": "2024-05-07T08:52:31.907134Z"
    },
    "papermill": {
     "duration": 0.024533,
     "end_time": "2024-05-07T08:52:31.910482",
     "exception": false,
     "start_time": "2024-05-07T08:52:31.885949",
     "status": "completed"
    },
    "tags": []
   },
   "outputs": [
    {
     "data": {
      "text/plain": [
       "{'Austin': [0, 0, 0, 0, 0, 0, 0],\n",
       " 'Tacoma': [0, 0, 0, 0, 0, 0, 0],\n",
       " 'Topeka': [0, 0, 0, 0, 0, 0, 0],\n",
       " 'Sacramento': [0, 0, 0, 0, 0, 0, 0],\n",
       " 'Charlotte': [0, 0, 0, 0, 0, 0, 0]}"
      ]
     },
     "execution_count": 16,
     "metadata": {},
     "output_type": "execute_result"
    }
   ],
   "source": [
    "cities = [\"Austin\", \"Tacoma\", \"Topeka\", \"Sacramento\", \"Charlotte\"]\n",
    "{city: [0] *7 for city in cities}\n"
   ]
  },
  {
   "cell_type": "code",
   "execution_count": 17,
   "id": "9953c04b",
   "metadata": {
    "execution": {
     "iopub.execute_input": "2024-05-07T08:52:31.937986Z",
     "iopub.status.busy": "2024-05-07T08:52:31.937560Z",
     "iopub.status.idle": "2024-05-07T08:52:31.945483Z",
     "shell.execute_reply": "2024-05-07T08:52:31.944397Z"
    },
    "papermill": {
     "duration": 0.024136,
     "end_time": "2024-05-07T08:52:31.947619",
     "exception": false,
     "start_time": "2024-05-07T08:52:31.923483",
     "status": "completed"
    },
    "tags": []
   },
   "outputs": [
    {
     "data": {
      "text/plain": [
       "[['h', 'e', 'l', 'l', 'o', ' ', 'w', 'o', 'r', 'l', 'd'],\n",
       " ['I', ' ', 'h', 'a', 'v', 'e', ' ', 'a', ' ', 'p', 'e', 'n']]"
      ]
     },
     "execution_count": 17,
     "metadata": {},
     "output_type": "execute_result"
    }
   ],
   "source": [
    "# extract a list of all character from a string\n",
    "\n",
    "string = [\"hello world\", \"I have a pen\"]\n",
    "#out = ['h', 'e', ... ]\n",
    "\n",
    "out = [[character for character in sentence] for sentence in string]\n",
    "out"
   ]
  },
  {
   "cell_type": "code",
   "execution_count": 18,
   "id": "a09c0145",
   "metadata": {
    "execution": {
     "iopub.execute_input": "2024-05-07T08:52:31.974964Z",
     "iopub.status.busy": "2024-05-07T08:52:31.974544Z",
     "iopub.status.idle": "2024-05-07T08:52:31.983458Z",
     "shell.execute_reply": "2024-05-07T08:52:31.982716Z"
    },
    "papermill": {
     "duration": 0.025409,
     "end_time": "2024-05-07T08:52:31.985699",
     "exception": false,
     "start_time": "2024-05-07T08:52:31.960290",
     "status": "completed"
    },
    "tags": []
   },
   "outputs": [
    {
     "data": {
      "text/plain": [
       "['h', 'h']"
      ]
     },
     "execution_count": 18,
     "metadata": {},
     "output_type": "execute_result"
    }
   ],
   "source": [
    "#Character Frequency: Given a string, \n",
    "#create a dictionary using list comprehension to \n",
    "# count the frequency of each character.\n",
    "\n",
    "from collections import defaultdict\n",
    "\n",
    "out = defaultdict(int)\n",
    "\n",
    "for c in string:\n",
    "    out[c] += 1\n",
    "out\n",
    "\n",
    "string = \"hello world I have a pen\"\n",
    "{char: len([c for c in string if c==char]) for char in set(string)}\n",
    "\n",
    "set(string)\n",
    "[c for c in string if c=='h']\n",
    "# len([c for c in string if c=='l'])\n",
    "# from collections import Counter\n",
    "\n",
    "# Counter(\"hello world I have a pen\")\n",
    "# set(string)\n"
   ]
  },
  {
   "cell_type": "code",
   "execution_count": 19,
   "id": "4a9f1056",
   "metadata": {
    "execution": {
     "iopub.execute_input": "2024-05-07T08:52:32.013120Z",
     "iopub.status.busy": "2024-05-07T08:52:32.012705Z",
     "iopub.status.idle": "2024-05-07T08:52:32.025382Z",
     "shell.execute_reply": "2024-05-07T08:52:32.024311Z"
    },
    "papermill": {
     "duration": 0.029263,
     "end_time": "2024-05-07T08:52:32.027755",
     "exception": false,
     "start_time": "2024-05-07T08:52:31.998492",
     "status": "completed"
    },
    "tags": []
   },
   "outputs": [
    {
     "data": {
      "text/plain": [
       "array([[0, 1, 2, 3],\n",
       "       [4, 5, 6, 7]])"
      ]
     },
     "execution_count": 19,
     "metadata": {},
     "output_type": "execute_result"
    }
   ],
   "source": [
    "import numpy as np\n",
    "array_example = np.array([[[0, 1, 2, 3],\n",
    "                           [4, 5, 6, 7]],\n",
    "\n",
    "                          [[0, 1, 2, 3],\n",
    "                           [4, 5, 6, 7]],\n",
    "\n",
    "                          [[0 ,1 ,2, 3],\n",
    "                           [4, 5, 6, 7]]])\n",
    "array_example.shape\n",
    "\n",
    "# three axis: 0, 1, 2\n",
    "np.min(array_example, axis=2)\n",
    "\n",
    "# [[0, 4], [0, 4], [0, 4]]\n",
    "\n",
    "np.min(array_example, axis=1)\n",
    "# [[0 1 2 3][0 1 2 3][0 1 2 3]]\n",
    "\n",
    "np.min(array_example, axis=0)\n",
    "# [[0 1, 2, 3], [4, 5, 6,7]]\n"
   ]
  },
  {
   "cell_type": "code",
   "execution_count": 20,
   "id": "c71bc97f",
   "metadata": {
    "execution": {
     "iopub.execute_input": "2024-05-07T08:52:32.056382Z",
     "iopub.status.busy": "2024-05-07T08:52:32.055984Z",
     "iopub.status.idle": "2024-05-07T08:52:32.064253Z",
     "shell.execute_reply": "2024-05-07T08:52:32.063159Z"
    },
    "papermill": {
     "duration": 0.025489,
     "end_time": "2024-05-07T08:52:32.066639",
     "exception": false,
     "start_time": "2024-05-07T08:52:32.041150",
     "status": "completed"
    },
    "tags": []
   },
   "outputs": [
    {
     "data": {
      "text/plain": [
       "(array([[[ 1,  2,  3,  4,  5],\n",
       "         [ 6,  7,  8,  9, 10]],\n",
       " \n",
       "        [[11, 12, 13, 14, 15],\n",
       "         [16, 17, 18, 19, 20]]]),\n",
       " array([[[ 1, 11],\n",
       "         [ 6, 16]],\n",
       " \n",
       "        [[ 2, 12],\n",
       "         [ 7, 17]],\n",
       " \n",
       "        [[ 3, 13],\n",
       "         [ 8, 18]],\n",
       " \n",
       "        [[ 4, 14],\n",
       "         [ 9, 19]],\n",
       " \n",
       "        [[ 5, 15],\n",
       "         [10, 20]]]))"
      ]
     },
     "execution_count": 20,
     "metadata": {},
     "output_type": "execute_result"
    }
   ],
   "source": [
    "arr = np.arange(1, 21).reshape(2,2,5)\n",
    "arr, arr.transpose(2, 1, 0)\n",
    "\n",
    "## [n_batch, n_feature, n_height, n_width]\n",
    "\n",
    "## [n_height, n_width, n_feature] -> [2, 0, 1]\n",
    "\n",
    "# arr.transpose(2, 1 ,0)  -> # (2 , 5 , 2)\n",
    "# arr.reshape(20, 3)\n",
    "\n",
    "\n",
    "# arr\n",
    "\n",
    "\n",
    "# \n"
   ]
  },
  {
   "cell_type": "markdown",
   "id": "a7791795",
   "metadata": {
    "papermill": {
     "duration": 0.013463,
     "end_time": "2024-05-07T08:52:32.093346",
     "exception": false,
     "start_time": "2024-05-07T08:52:32.079883",
     "status": "completed"
    },
    "tags": []
   },
   "source": [
    "# Your Turn\n",
    "\n",
    "You know what's next -- we have some **[fun coding challenges](https://www.kaggle.com/kernels/fork/1275177)** for you! This next set of coding problems is shorter, so try it now."
   ]
  },
  {
   "cell_type": "markdown",
   "id": "8bbe0ac2",
   "metadata": {
    "papermill": {
     "duration": 0.013551,
     "end_time": "2024-05-07T08:52:32.120412",
     "exception": false,
     "start_time": "2024-05-07T08:52:32.106861",
     "status": "completed"
    },
    "tags": []
   },
   "source": [
    "---\n",
    "\n",
    "\n",
    "\n",
    "\n",
    "*Have questions or comments? Visit the [course discussion forum](https://www.kaggle.com/learn/python/discussion) to chat with other learners.*"
   ]
  }
 ],
 "metadata": {
  "anaconda-cloud": {},
  "kaggle": {
   "accelerator": "none",
   "dataSources": [],
   "isGpuEnabled": false,
   "isInternetEnabled": false,
   "language": "python",
   "sourceType": "notebook"
  },
  "kernelspec": {
   "display_name": "Python 3",
   "language": "python",
   "name": "python3"
  },
  "language_info": {
   "codemirror_mode": {
    "name": "ipython",
    "version": 3
   },
   "file_extension": ".py",
   "mimetype": "text/x-python",
   "name": "python",
   "nbconvert_exporter": "python",
   "pygments_lexer": "ipython3",
   "version": "3.10.13"
  },
  "learntools_metadata": {
   "lesson_index": 4,
   "type": "tutorial"
  },
  "papermill": {
   "default_parameters": {},
   "duration": 4.584582,
   "end_time": "2024-05-07T08:52:32.554304",
   "environment_variables": {},
   "exception": null,
   "input_path": "__notebook__.ipynb",
   "output_path": "__notebook__.ipynb",
   "parameters": {},
   "start_time": "2024-05-07T08:52:27.969722",
   "version": "2.5.0"
  }
 },
 "nbformat": 4,
 "nbformat_minor": 5
}
